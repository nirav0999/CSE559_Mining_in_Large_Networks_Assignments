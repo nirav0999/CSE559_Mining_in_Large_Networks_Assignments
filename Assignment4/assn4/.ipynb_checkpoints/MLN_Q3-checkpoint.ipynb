{
 "cells": [
  {
   "cell_type": "markdown",
   "metadata": {
    "colab_type": "text",
    "id": "bsFOZAWEd55b"
   },
   "source": [
    "# Install Libraries"
   ]
  },
  {
   "cell_type": "code",
   "execution_count": 1,
   "metadata": {
    "colab": {},
    "colab_type": "code",
    "id": "pYiGcuQ-d0Pc"
   },
   "outputs": [
    {
     "name": "stdout",
     "output_type": "stream",
     "text": [
      "Collecting dgl\n",
      "\u001b[?25l  Downloading https://files.pythonhosted.org/packages/c5/b4/84e4ebd70ef3985181ef5d2d2a366a45af0e3cd18d249fb212ac03f683cf/dgl-0.4.3.post2-cp36-cp36m-manylinux1_x86_64.whl (3.0MB)\n",
      "\u001b[K     |████████████████████████████████| 3.0MB 1.1MB/s eta 0:00:01\n",
      "\u001b[?25hRequirement already satisfied: networkx>=2.1 in /home/nirav/.local/lib/python3.6/site-packages (from dgl) (2.3)\n",
      "Requirement already satisfied: requests>=2.19.0 in /home/nirav/.local/lib/python3.6/site-packages (from dgl) (2.22.0)\n",
      "Requirement already satisfied: scipy>=1.1.0 in /home/nirav/.local/lib/python3.6/site-packages (from dgl) (1.3.0)\n",
      "Requirement already satisfied: numpy>=1.14.0 in /home/nirav/.local/lib/python3.6/site-packages (from dgl) (1.16.4)\n",
      "Requirement already satisfied: decorator>=4.3.0 in /home/nirav/.local/lib/python3.6/site-packages (from networkx>=2.1->dgl) (4.4.0)\n",
      "Requirement already satisfied: urllib3!=1.25.0,!=1.25.1,<1.26,>=1.21.1 in /home/nirav/.local/lib/python3.6/site-packages (from requests>=2.19.0->dgl) (1.25.3)\n",
      "Requirement already satisfied: idna<2.9,>=2.5 in /home/nirav/.local/lib/python3.6/site-packages (from requests>=2.19.0->dgl) (2.8)\n",
      "Requirement already satisfied: chardet<3.1.0,>=3.0.2 in /home/nirav/.local/lib/python3.6/site-packages (from requests>=2.19.0->dgl) (3.0.4)\n",
      "Requirement already satisfied: certifi>=2017.4.17 in /home/nirav/.local/lib/python3.6/site-packages (from requests>=2.19.0->dgl) (2019.3.9)\n",
      "Installing collected packages: dgl\n",
      "\u001b[31mERROR: Could not install packages due to an EnvironmentError: [Errno 13] Permission denied: '/usr/local/lib/python3.6/dist-packages/dgl'\n",
      "Consider using the `--user` option or check the permissions.\n",
      "\u001b[0m\n",
      "\u001b[33mWARNING: You are using pip version 19.1.1, however version 20.0.2 is available.\n",
      "You should consider upgrading via the 'pip install --upgrade pip' command.\u001b[0m\n"
     ]
    }
   ],
   "source": []
  },
  {
   "cell_type": "markdown",
   "metadata": {
    "colab_type": "text",
    "id": "6zLGAUORd_P8"
   },
   "source": [
    "# Imports"
   ]
  },
  {
   "cell_type": "code",
   "execution_count": 3,
   "metadata": {
    "colab": {},
    "colab_type": "code",
    "id": "aFHDQ7EeL2Kr"
   },
   "outputs": [
    {
     "name": "stderr",
     "output_type": "stream",
     "text": [
      "DGL backend not selected or invalid.  Assuming PyTorch for now.\n"
     ]
    },
    {
     "name": "stdout",
     "output_type": "stream",
     "text": [
      "Setting the default backend to \"pytorch\". You can change it in the ~/.dgl/config.json file or export the DGLBACKEND environment variable.  Valid options are: pytorch, mxnet, tensorflow (all lowercase)\n"
     ]
    },
    {
     "name": "stderr",
     "output_type": "stream",
     "text": [
      "Using backend: pytorch\n"
     ]
    }
   ],
   "source": [
    "import dgl\n",
    "import dgl.function as fn\n",
    "import torch as th\n",
    "import torch.nn as nn\n",
    "import torch.nn.functional as F\n",
    "from dgl import DGLGraph\n",
    "from dgl.data import citation_graph as citegrh\n",
    "import networkx as nx\n",
    "import tensorflow as tf\n",
    "import numpy as np\n",
    "import matplotlib.pyplot as plt"
   ]
  },
  {
   "cell_type": "code",
   "execution_count": 4,
   "metadata": {
    "colab": {},
    "colab_type": "code",
    "id": "oV-y_JjGdpEO"
   },
   "outputs": [],
   "source": [
    "class GCNLayer(nn.Module):\n",
    "    def __init__(self, in_feats, out_feats):\n",
    "        super(GCNLayer, self).__init__()\n",
    "        self.linear = nn.Linear(in_feats, out_feats)\n",
    "\n",
    "    def message_func(self,edges):\n",
    "        # print(\"edges =\", edges.edges())\n",
    "        #print(\"edges.edges() shape = \",edges.edges().shape)\n",
    "        # print(\"edges.src['h'] = \",edges.src['h'])\n",
    "        # print(\"edges.src['h'].shape = \",edges.src['h'].shape)\n",
    "        # print(\"degrees[edges.edges()[0]] = \",degrees[edges.edges()[0]].shape)\n",
    "        # print(\"degrees[0] = \",degrees[edges.edges()[0]])\n",
    "        \n",
    "        new_edges = None\n",
    "\n",
    "        for i_no,row in enumerate(edges.src['h']):\n",
    "            src = edges.edges()[0][i_no]\n",
    "            degree_src = degrees[src]\n",
    "            # print(\"Row = \", row)\n",
    "            # print(\"Source of Degree = \", degree_src,src)\n",
    "            new_row = row/(degree_src**(1/2))\n",
    "            # print(\"New_row = \",new_row.shape ,new_row)\n",
    "            if i_no == 0:\n",
    "                new_edges = new_row\n",
    "            elif i_no == 1:\n",
    "                new_edges = th.stack((new_edges,new_row),0)\n",
    "            else:\n",
    "                new_row = new_row.unsqueeze(1)\n",
    "                new_row = th.transpose(new_row, 0, 1)\n",
    "                # print(\"New_row = \",new_row.shape ,new_row)\n",
    "                new_edges = th.cat((new_edges,new_row),dim = 0)\n",
    "            #print(\"New Edges = \",i_no,new_edges.shape,new_edges)\n",
    "\n",
    "        return {'m': new_edges}\n",
    "\n",
    "    def reduce_func(self,nodes):\n",
    "        #print(\"node nodes =\",nodes.nodes())\n",
    "        #print(\"nodes.mailbox['m'] = \",nodes.mailbox['m'])\n",
    "        h = th.sum(nodes.mailbox['m'], dim = 1)\n",
    "        #print(\"h = \",h,h.shape)\n",
    "        new_h = None\n",
    "        for i_no,node in enumerate(nodes.nodes()):\n",
    "            # print(\"Current Node = \", node,\"it's degree = \",degrees[node])\n",
    "            # print(\"MailBox Tensor = \", h[i_no])\n",
    "            new_row =  h[i_no]/(degrees[node]**(1/2))\n",
    "            #print(\"New_Row = \",new_row)\n",
    "            if i_no == 0:\n",
    "                new_row = new_row.unsqueeze(1)\n",
    "                new_row = th.transpose(new_row, 0, 1)\n",
    "                new_h = new_row\n",
    "                #print(\"new_h1 = \",new_h)\n",
    "            # elif  i_no == 1:\n",
    "            #     print(\"new_h2 = \",new_h)\n",
    "            #     new_h = th.stack((new_h,new_row),0)\n",
    "            else:\n",
    "                new_row = new_row.unsqueeze(1)\n",
    "                new_row = th.transpose(new_row, 0, 1)\n",
    "                #print(\"New_Row_else = \",new_row)\n",
    "                # print(\"New_row = \",new_row.shape ,new_row)\n",
    "                #print(\"new_h3 = \",new_h)\n",
    "                new_h = th.cat((new_h,new_row),dim = 0)\n",
    "\n",
    "        #print(\"new_h_final = \",new_h)\n",
    "        #print(\"new_h.shape = \",new_h.shape)\n",
    "        return {'h': new_h}\n",
    "\n",
    "    def forward(self, g, feature):\n",
    "        # Creating a local scope so that all the stored ndata and edata\n",
    "        # (such as the `'h'` ndata below) are automatically popped out\n",
    "        # when the scope exits.\n",
    "        with g.local_scope():\n",
    "\n",
    "            g.ndata['h'] = feature\n",
    "            g.update_all(self.message_func, self.reduce_func)\n",
    "\n",
    "            h = g.ndata['h']\n",
    "            return self.linear(h)"
   ]
  },
  {
   "cell_type": "code",
   "execution_count": 5,
   "metadata": {
    "colab": {},
    "colab_type": "code",
    "id": "fqQVXDBLf-8m"
   },
   "outputs": [],
   "source": [
    "class Net(nn.Module):\n",
    "    def __init__(self):\n",
    "        super(Net, self).__init__()\n",
    "        self.layer1 = GCNLayer(34, 32)\n",
    "        self.layer2 = GCNLayer(32, 2)\n",
    "\n",
    "    def forward(self, g, features):\n",
    "        x = F.relu(self.layer1(g, features))\n",
    "        x = self.layer2(g, x)\n",
    "        return x"
   ]
  },
  {
   "cell_type": "code",
   "execution_count": 0,
   "metadata": {
    "colab": {},
    "colab_type": "code",
    "id": "tDu1WZckk-g-"
   },
   "outputs": [],
   "source": [
    "# def load_cora_data():\n",
    "\n",
    "#     data = citegrh.load_cora()\n",
    "#     print(data)\n",
    "\n",
    "#     features = th.FloatTensor(data.features)\n",
    "#     print(features)\n",
    "\n",
    "#     labels = th.LongTensor(data.labels)\n",
    "#     print(labels)\n",
    "\n",
    "#     train_mask = th.BoolTensor(data.train_mask)\n",
    "#     print(train_mask)\n",
    "\n",
    "#     test_mask = th.BoolTensor(data.test_mask)\n",
    "#     print(test_mask)\n",
    "\n",
    "#     g = DGLGraph(data.graph)\n",
    "\n",
    "#     print(g.ndata)\n",
    "\n",
    "#     return g, features, labels, train_mask, test_mask"
   ]
  },
  {
   "cell_type": "code",
   "execution_count": 6,
   "metadata": {
    "colab": {},
    "colab_type": "code",
    "id": "Ne9frO_wHz4R"
   },
   "outputs": [],
   "source": [
    "def visualize_features(logits,labels,title):\n",
    "    fig, ax = plt.subplots()\n",
    "    for i_no in range(logits.shape[0]):\n",
    "        x = logits[i_no][0]\n",
    "        y = logits[i_no][1]\n",
    "        if labels[i_no] == 0:\n",
    "            ax.scatter(x,y,c = 'red')\n",
    "            ax.annotate(i_no,(x,y))\n",
    "        else:\n",
    "            ax.scatter(x,y,c = 'blue')\n",
    "            ax.annotate(i_no,(x,y))\n",
    "    ax.set_title('epoch ' + str(title))\n",
    "    ax.set_xlabel('x')\n",
    "    ax.set_ylabel('y')\n",
    "    plt.show()\n",
    "\n",
    "def evaluate(model, g, features, labels, mask,display = False):\n",
    "    model.eval()\n",
    "    with th.no_grad():\n",
    "        logits = model(g, features)\n",
    "        logits = logits[mask]\n",
    "        labels = labels[mask]\n",
    "        _, indices = th.max(logits, dim=1)\n",
    "        # print(features)\n",
    "        # print(logits)\n",
    "        if display != False:\n",
    "            visualize_features(logits,labels,display)\n",
    "        correct = th.sum(indices == labels)\n",
    "        return correct.item() * 1.0 / len(labels)\n",
    "        "
   ]
  },
  {
   "cell_type": "code",
   "execution_count": 0,
   "metadata": {
    "colab": {
     "base_uri": "https://localhost:8080/",
     "height": 52
    },
    "colab_type": "code",
    "id": "zoj7QRfZsxoa",
    "outputId": "3156a3cf-4cd7-413a-846b-ffe4b17a4512"
   },
   "outputs": [
    {
     "name": "stdout",
     "output_type": "stream",
     "text": [
      "<dgl.function.message.CopyMessageFunction object at 0x7f7a8444a160>\n",
      "<dgl.function.reducer.SimpleReduceFunction object at 0x7f7a8444a320>\n"
     ]
    }
   ],
   "source": [
    "gcn_msg = fn.copy_src(src = 'h', out = 'm')\n",
    "gcn_reduce = fn.sum(msg = 'm', out = 'h')\n",
    "\n",
    "print(gcn_msg)\n",
    "\n",
    "print(gcn_reduce)"
   ]
  },
  {
   "cell_type": "code",
   "execution_count": 0,
   "metadata": {
    "colab": {
     "base_uri": "https://localhost:8080/",
     "height": 1000
    },
    "colab_type": "code",
    "id": "BvbeXpMzH3Yf",
    "outputId": "de7e4dd0-592e-4289-d202-7c7d62c8ee72"
   },
   "outputs": [
    {
     "name": "stderr",
     "output_type": "stream",
     "text": [
      "/usr/local/lib/python3.6/dist-packages/numpy/core/fromnumeric.py:3335: RuntimeWarning: Mean of empty slice.\n",
      "  out=out, **kwargs)\n",
      "/usr/local/lib/python3.6/dist-packages/numpy/core/_methods.py:161: RuntimeWarning: invalid value encountered in double_scalars\n",
      "  ret = ret.dtype.type(ret / rcount)\n"
     ]
    },
    {
     "name": "stdout",
     "output_type": "stream",
     "text": [
      "Epoch 00000 | Loss 0.7085 | Test Acc 0.5312 | Time(s) nan\n",
      "Epoch 00001 | Loss 0.7078 | Test Acc 0.5312 | Time(s) nan\n",
      "Epoch 00002 | Loss 0.7070 | Test Acc 0.5938 | Time(s) nan\n",
      "Epoch 00003 | Loss 0.7062 | Test Acc 0.5938 | Time(s) 0.0217\n",
      "Epoch 00004 | Loss 0.7054 | Test Acc 0.5625 | Time(s) 0.0220\n",
      "Epoch 00005 | Loss 0.7046 | Test Acc 0.5625 | Time(s) 0.0220\n",
      "Epoch 00006 | Loss 0.7038 | Test Acc 0.5625 | Time(s) 0.0230\n",
      "Epoch 00007 | Loss 0.7030 | Test Acc 0.5625 | Time(s) 0.0229\n",
      "Epoch 00008 | Loss 0.7023 | Test Acc 0.5312 | Time(s) 0.0227\n",
      "Epoch 00009 | Loss 0.7015 | Test Acc 0.5000 | Time(s) 0.0226\n",
      "Epoch 00010 | Loss 0.7007 | Test Acc 0.5000 | Time(s) 0.0226\n",
      "Epoch 00011 | Loss 0.7000 | Test Acc 0.5000 | Time(s) 0.0229\n",
      "Epoch 00012 | Loss 0.6992 | Test Acc 0.5000 | Time(s) 0.0230\n",
      "Epoch 00013 | Loss 0.6985 | Test Acc 0.5000 | Time(s) 0.0229\n",
      "Epoch 00014 | Loss 0.6977 | Test Acc 0.5000 | Time(s) 0.0232\n",
      "Epoch 00015 | Loss 0.6970 | Test Acc 0.5312 | Time(s) 0.0231\n",
      "Epoch 00016 | Loss 0.6962 | Test Acc 0.5312 | Time(s) 0.0230\n",
      "Epoch 00017 | Loss 0.6955 | Test Acc 0.5938 | Time(s) 0.0229\n",
      "Epoch 00018 | Loss 0.6947 | Test Acc 0.5938 | Time(s) 0.0230\n",
      "Epoch 00019 | Loss 0.6940 | Test Acc 0.5938 | Time(s) 0.0229\n",
      "Epoch 00020 | Loss 0.6933 | Test Acc 0.5938 | Time(s) 0.0229\n",
      "Epoch 00021 | Loss 0.6925 | Test Acc 0.5938 | Time(s) 0.0228\n",
      "Epoch 00022 | Loss 0.6918 | Test Acc 0.5938 | Time(s) 0.0228\n",
      "Epoch 00023 | Loss 0.6911 | Test Acc 0.5938 | Time(s) 0.0229\n",
      "Epoch 00024 | Loss 0.6903 | Test Acc 0.5938 | Time(s) 0.0234\n",
      "Epoch 00025 | Loss 0.6896 | Test Acc 0.5938 | Time(s) 0.0238\n",
      "Epoch 00026 | Loss 0.6889 | Test Acc 0.5938 | Time(s) 0.0241\n",
      "Epoch 00027 | Loss 0.6882 | Test Acc 0.5938 | Time(s) 0.0245\n",
      "Epoch 00028 | Loss 0.6874 | Test Acc 0.5938 | Time(s) 0.0247\n",
      "Epoch 00029 | Loss 0.6867 | Test Acc 0.5938 | Time(s) 0.0250\n",
      "Epoch 00030 | Loss 0.6860 | Test Acc 0.5938 | Time(s) 0.0252\n",
      "Epoch 00031 | Loss 0.6853 | Test Acc 0.5938 | Time(s) 0.0255\n",
      "Epoch 00032 | Loss 0.6846 | Test Acc 0.5938 | Time(s) 0.0257\n",
      "Epoch 00033 | Loss 0.6839 | Test Acc 0.5938 | Time(s) 0.0258\n",
      "Epoch 00034 | Loss 0.6832 | Test Acc 0.5938 | Time(s) 0.0257\n",
      "Epoch 00035 | Loss 0.6825 | Test Acc 0.5938 | Time(s) 0.0259\n",
      "Epoch 00036 | Loss 0.6818 | Test Acc 0.5938 | Time(s) 0.0263\n",
      "Epoch 00037 | Loss 0.6810 | Test Acc 0.6562 | Time(s) 0.0265\n",
      "Epoch 00038 | Loss 0.6803 | Test Acc 0.6562 | Time(s) 0.0267\n",
      "Epoch 00039 | Loss 0.6796 | Test Acc 0.6562 | Time(s) 0.0268\n",
      "Epoch 00040 | Loss 0.6789 | Test Acc 0.6562 | Time(s) 0.0269\n",
      "Epoch 00041 | Loss 0.6782 | Test Acc 0.6562 | Time(s) 0.0271\n",
      "Epoch 00042 | Loss 0.6775 | Test Acc 0.6562 | Time(s) 0.0272\n",
      "Epoch 00043 | Loss 0.6768 | Test Acc 0.6562 | Time(s) 0.0273\n",
      "Epoch 00044 | Loss 0.6761 | Test Acc 0.6562 | Time(s) 0.0271\n",
      "Epoch 00045 | Loss 0.6754 | Test Acc 0.6562 | Time(s) 0.0272\n",
      "Epoch 00046 | Loss 0.6747 | Test Acc 0.6562 | Time(s) 0.0271\n",
      "Epoch 00047 | Loss 0.6739 | Test Acc 0.6562 | Time(s) 0.0269\n",
      "Epoch 00048 | Loss 0.6732 | Test Acc 0.6562 | Time(s) 0.0268\n",
      "Epoch 00049 | Loss 0.6725 | Test Acc 0.7188 | Time(s) 0.0267\n"
     ]
    },
    {
     "data": {
      "image/png": "[encoded data removed]",
      "text/plain": [
       "<Figure size 432x288 with 1 Axes>"
      ]
     },
     "metadata": {
      "needs_background": "light",
      "tags": []
     },
     "output_type": "display_data"
    },
    {
     "name": "stdout",
     "output_type": "stream",
     "text": [
      "Epoch 00050 | Loss 0.6718 | Test Acc 0.7188 | Time(s) 0.0267\n",
      "Epoch 00051 | Loss 0.6711 | Test Acc 0.7188 | Time(s) 0.0269\n",
      "Epoch 00052 | Loss 0.6704 | Test Acc 0.7188 | Time(s) 0.0270\n",
      "Epoch 00053 | Loss 0.6696 | Test Acc 0.7188 | Time(s) 0.0270\n",
      "Epoch 00054 | Loss 0.6689 | Test Acc 0.7188 | Time(s) 0.0269\n",
      "Epoch 00055 | Loss 0.6682 | Test Acc 0.7188 | Time(s) 0.0269\n",
      "Epoch 00056 | Loss 0.6675 | Test Acc 0.7188 | Time(s) 0.0268\n",
      "Epoch 00057 | Loss 0.6667 | Test Acc 0.7188 | Time(s) 0.0267\n",
      "Epoch 00058 | Loss 0.6660 | Test Acc 0.7188 | Time(s) 0.0266\n",
      "Epoch 00059 | Loss 0.6653 | Test Acc 0.7188 | Time(s) 0.0266\n",
      "Epoch 00060 | Loss 0.6645 | Test Acc 0.7500 | Time(s) 0.0266\n",
      "Epoch 00061 | Loss 0.6638 | Test Acc 0.7500 | Time(s) 0.0268\n",
      "Epoch 00062 | Loss 0.6631 | Test Acc 0.7500 | Time(s) 0.0270\n",
      "Epoch 00063 | Loss 0.6623 | Test Acc 0.7500 | Time(s) 0.0271\n",
      "Epoch 00064 | Loss 0.6616 | Test Acc 0.7500 | Time(s) 0.0272\n",
      "Epoch 00065 | Loss 0.6608 | Test Acc 0.7500 | Time(s) 0.0273\n",
      "Epoch 00066 | Loss 0.6601 | Test Acc 0.7500 | Time(s) 0.0274\n",
      "Epoch 00067 | Loss 0.6593 | Test Acc 0.7500 | Time(s) 0.0275\n",
      "Epoch 00068 | Loss 0.6586 | Test Acc 0.7500 | Time(s) 0.0274\n",
      "Epoch 00069 | Loss 0.6579 | Test Acc 0.7500 | Time(s) 0.0273\n",
      "Epoch 00070 | Loss 0.6571 | Test Acc 0.7812 | Time(s) 0.0273\n",
      "Epoch 00071 | Loss 0.6564 | Test Acc 0.7812 | Time(s) 0.0272\n",
      "Epoch 00072 | Loss 0.6556 | Test Acc 0.7812 | Time(s) 0.0271\n",
      "Epoch 00073 | Loss 0.6548 | Test Acc 0.7812 | Time(s) 0.0271\n",
      "Epoch 00074 | Loss 0.6541 | Test Acc 0.7812 | Time(s) 0.0270\n",
      "Epoch 00075 | Loss 0.6533 | Test Acc 0.8438 | Time(s) 0.0269\n",
      "Epoch 00076 | Loss 0.6525 | Test Acc 0.8438 | Time(s) 0.0269\n",
      "Epoch 00077 | Loss 0.6517 | Test Acc 0.8438 | Time(s) 0.0268\n",
      "Epoch 00078 | Loss 0.6509 | Test Acc 0.8438 | Time(s) 0.0268\n",
      "Epoch 00079 | Loss 0.6501 | Test Acc 0.8438 | Time(s) 0.0267\n",
      "Epoch 00080 | Loss 0.6494 | Test Acc 0.8438 | Time(s) 0.0266\n",
      "Epoch 00081 | Loss 0.6486 | Test Acc 0.8438 | Time(s) 0.0266\n",
      "Epoch 00082 | Loss 0.6478 | Test Acc 0.8750 | Time(s) 0.0266\n",
      "Epoch 00083 | Loss 0.6470 | Test Acc 0.8750 | Time(s) 0.0265\n",
      "Epoch 00084 | Loss 0.6462 | Test Acc 0.8750 | Time(s) 0.0266\n",
      "Epoch 00085 | Loss 0.6454 | Test Acc 0.8750 | Time(s) 0.0266\n",
      "Epoch 00086 | Loss 0.6446 | Test Acc 0.8750 | Time(s) 0.0265\n",
      "Epoch 00087 | Loss 0.6438 | Test Acc 0.8750 | Time(s) 0.0265\n",
      "Epoch 00088 | Loss 0.6430 | Test Acc 0.8750 | Time(s) 0.0264\n",
      "Epoch 00089 | Loss 0.6421 | Test Acc 0.8750 | Time(s) 0.0264\n",
      "Epoch 00090 | Loss 0.6413 | Test Acc 0.8750 | Time(s) 0.0263\n",
      "Epoch 00091 | Loss 0.6405 | Test Acc 0.8750 | Time(s) 0.0263\n",
      "Epoch 00092 | Loss 0.6397 | Test Acc 0.8750 | Time(s) 0.0262\n",
      "Epoch 00093 | Loss 0.6389 | Test Acc 0.8750 | Time(s) 0.0262\n",
      "Epoch 00094 | Loss 0.6380 | Test Acc 0.8750 | Time(s) 0.0262\n",
      "Epoch 00095 | Loss 0.6372 | Test Acc 0.8750 | Time(s) 0.0261\n",
      "Epoch 00096 | Loss 0.6364 | Test Acc 0.8750 | Time(s) 0.0261\n",
      "Epoch 00097 | Loss 0.6355 | Test Acc 0.8750 | Time(s) 0.0261\n",
      "Epoch 00098 | Loss 0.6347 | Test Acc 0.8750 | Time(s) 0.0261\n",
      "Epoch 00099 | Loss 0.6338 | Test Acc 0.8750 | Time(s) 0.0261\n"
     ]
    },
    {
     "data": {
      "image/png": "[encoded data removed]",
      "text/plain": [
       "<Figure size 432x288 with 1 Axes>"
      ]
     },
     "metadata": {
      "needs_background": "light",
      "tags": []
     },
     "output_type": "display_data"
    },
    {
     "name": "stdout",
     "output_type": "stream",
     "text": [
      "Epoch 00100 | Loss 0.6330 | Test Acc 0.8750 | Time(s) 0.0260\n",
      "Epoch 00101 | Loss 0.6321 | Test Acc 0.8750 | Time(s) 0.0261\n",
      "Epoch 00102 | Loss 0.6313 | Test Acc 0.8750 | Time(s) 0.0262\n",
      "Epoch 00103 | Loss 0.6304 | Test Acc 0.8750 | Time(s) 0.0263\n",
      "Epoch 00104 | Loss 0.6295 | Test Acc 0.8750 | Time(s) 0.0263\n",
      "Epoch 00105 | Loss 0.6287 | Test Acc 0.8750 | Time(s) 0.0264\n",
      "Epoch 00106 | Loss 0.6278 | Test Acc 0.8750 | Time(s) 0.0264\n",
      "Epoch 00107 | Loss 0.6269 | Test Acc 0.8750 | Time(s) 0.0265\n",
      "Epoch 00108 | Loss 0.6260 | Test Acc 0.8750 | Time(s) 0.0265\n",
      "Epoch 00109 | Loss 0.6251 | Test Acc 0.8750 | Time(s) 0.0264\n",
      "Epoch 00110 | Loss 0.6242 | Test Acc 0.8750 | Time(s) 0.0264\n",
      "Epoch 00111 | Loss 0.6233 | Test Acc 0.9062 | Time(s) 0.0264\n",
      "Epoch 00112 | Loss 0.6225 | Test Acc 0.9062 | Time(s) 0.0263\n",
      "Epoch 00113 | Loss 0.6216 | Test Acc 0.9062 | Time(s) 0.0263\n",
      "Epoch 00114 | Loss 0.6206 | Test Acc 0.9062 | Time(s) 0.0263\n",
      "Epoch 00115 | Loss 0.6197 | Test Acc 0.9062 | Time(s) 0.0263\n",
      "Epoch 00116 | Loss 0.6188 | Test Acc 0.9062 | Time(s) 0.0262\n",
      "Epoch 00117 | Loss 0.6179 | Test Acc 0.9062 | Time(s) 0.0262\n",
      "Epoch 00118 | Loss 0.6170 | Test Acc 0.9062 | Time(s) 0.0262\n",
      "Epoch 00119 | Loss 0.6161 | Test Acc 0.9062 | Time(s) 0.0263\n",
      "Epoch 00120 | Loss 0.6152 | Test Acc 0.9062 | Time(s) 0.0264\n",
      "Epoch 00121 | Loss 0.6142 | Test Acc 0.9062 | Time(s) 0.0264\n",
      "Epoch 00122 | Loss 0.6133 | Test Acc 0.9062 | Time(s) 0.0265\n",
      "Epoch 00123 | Loss 0.6124 | Test Acc 0.9062 | Time(s) 0.0266\n",
      "Epoch 00124 | Loss 0.6115 | Test Acc 0.9062 | Time(s) 0.0266\n",
      "Epoch 00125 | Loss 0.6105 | Test Acc 0.9062 | Time(s) 0.0266\n",
      "Epoch 00126 | Loss 0.6096 | Test Acc 0.9062 | Time(s) 0.0266\n",
      "Epoch 00127 | Loss 0.6086 | Test Acc 0.9062 | Time(s) 0.0266\n",
      "Epoch 00128 | Loss 0.6077 | Test Acc 0.9062 | Time(s) 0.0266\n",
      "Epoch 00129 | Loss 0.6067 | Test Acc 0.9062 | Time(s) 0.0267\n",
      "Epoch 00130 | Loss 0.6058 | Test Acc 0.9062 | Time(s) 0.0267\n",
      "Epoch 00131 | Loss 0.6048 | Test Acc 0.9062 | Time(s) 0.0267\n",
      "Epoch 00132 | Loss 0.6039 | Test Acc 0.9062 | Time(s) 0.0267\n",
      "Epoch 00133 | Loss 0.6029 | Test Acc 0.9062 | Time(s) 0.0266\n",
      "Epoch 00134 | Loss 0.6019 | Test Acc 0.9062 | Time(s) 0.0266\n",
      "Epoch 00135 | Loss 0.6010 | Test Acc 0.9062 | Time(s) 0.0266\n",
      "Epoch 00136 | Loss 0.6000 | Test Acc 0.9375 | Time(s) 0.0265\n",
      "Epoch 00137 | Loss 0.5990 | Test Acc 0.9375 | Time(s) 0.0265\n",
      "Epoch 00138 | Loss 0.5980 | Test Acc 0.9375 | Time(s) 0.0266\n",
      "Epoch 00139 | Loss 0.5971 | Test Acc 0.9375 | Time(s) 0.0266\n",
      "Epoch 00140 | Loss 0.5961 | Test Acc 0.9375 | Time(s) 0.0267\n",
      "Epoch 00141 | Loss 0.5951 | Test Acc 0.9375 | Time(s) 0.0267\n",
      "Epoch 00142 | Loss 0.5941 | Test Acc 0.9375 | Time(s) 0.0268\n",
      "Epoch 00143 | Loss 0.5931 | Test Acc 0.9375 | Time(s) 0.0268\n",
      "Epoch 00144 | Loss 0.5921 | Test Acc 0.9375 | Time(s) 0.0269\n",
      "Epoch 00145 | Loss 0.5911 | Test Acc 0.9375 | Time(s) 0.0269\n",
      "Epoch 00146 | Loss 0.5901 | Test Acc 0.9375 | Time(s) 0.0270\n",
      "Epoch 00147 | Loss 0.5891 | Test Acc 0.9375 | Time(s) 0.0270\n",
      "Epoch 00148 | Loss 0.5881 | Test Acc 0.9375 | Time(s) 0.0270\n",
      "Epoch 00149 | Loss 0.5871 | Test Acc 0.9375 | Time(s) 0.0271\n"
     ]
    },
    {
     "data": {
      "image/png": "[encoded data removed]",
      "text/plain": [
       "<Figure size 432x288 with 1 Axes>"
      ]
     },
     "metadata": {
      "needs_background": "light",
      "tags": []
     },
     "output_type": "display_data"
    },
    {
     "name": "stdout",
     "output_type": "stream",
     "text": [
      "Epoch 00150 | Loss 0.5861 | Test Acc 0.9375 | Time(s) 0.0270\n",
      "Epoch 00151 | Loss 0.5850 | Test Acc 0.9375 | Time(s) 0.0270\n",
      "Epoch 00152 | Loss 0.5840 | Test Acc 0.9375 | Time(s) 0.0270\n",
      "Epoch 00153 | Loss 0.5830 | Test Acc 0.9375 | Time(s) 0.0270\n",
      "Epoch 00154 | Loss 0.5820 | Test Acc 0.9375 | Time(s) 0.0270\n",
      "Epoch 00155 | Loss 0.5809 | Test Acc 0.9375 | Time(s) 0.0270\n",
      "Epoch 00156 | Loss 0.5799 | Test Acc 0.9375 | Time(s) 0.0270\n",
      "Epoch 00157 | Loss 0.5789 | Test Acc 0.9375 | Time(s) 0.0269\n",
      "Epoch 00158 | Loss 0.5778 | Test Acc 0.9375 | Time(s) 0.0269\n",
      "Epoch 00159 | Loss 0.5768 | Test Acc 0.9375 | Time(s) 0.0269\n",
      "Epoch 00160 | Loss 0.5757 | Test Acc 0.9375 | Time(s) 0.0269\n",
      "Epoch 00161 | Loss 0.5747 | Test Acc 0.9375 | Time(s) 0.0269\n",
      "Epoch 00162 | Loss 0.5736 | Test Acc 0.9375 | Time(s) 0.0268\n",
      "Epoch 00163 | Loss 0.5726 | Test Acc 0.9375 | Time(s) 0.0268\n",
      "Epoch 00164 | Loss 0.5715 | Test Acc 0.9375 | Time(s) 0.0268\n",
      "Epoch 00165 | Loss 0.5705 | Test Acc 0.9375 | Time(s) 0.0268\n",
      "Epoch 00166 | Loss 0.5694 | Test Acc 0.9375 | Time(s) 0.0267\n",
      "Epoch 00167 | Loss 0.5683 | Test Acc 0.9375 | Time(s) 0.0267\n",
      "Epoch 00168 | Loss 0.5672 | Test Acc 0.9375 | Time(s) 0.0267\n",
      "Epoch 00169 | Loss 0.5662 | Test Acc 0.9375 | Time(s) 0.0268\n",
      "Epoch 00170 | Loss 0.5651 | Test Acc 0.9375 | Time(s) 0.0268\n",
      "Epoch 00171 | Loss 0.5640 | Test Acc 0.9375 | Time(s) 0.0269\n",
      "Epoch 00172 | Loss 0.5629 | Test Acc 0.9375 | Time(s) 0.0269\n",
      "Epoch 00173 | Loss 0.5618 | Test Acc 0.9375 | Time(s) 0.0269\n",
      "Epoch 00174 | Loss 0.5608 | Test Acc 0.9375 | Time(s) 0.0269\n",
      "Epoch 00175 | Loss 0.5597 | Test Acc 0.9375 | Time(s) 0.0268\n",
      "Epoch 00176 | Loss 0.5586 | Test Acc 0.9375 | Time(s) 0.0268\n",
      "Epoch 00177 | Loss 0.5575 | Test Acc 0.9375 | Time(s) 0.0268\n",
      "Epoch 00178 | Loss 0.5564 | Test Acc 0.9375 | Time(s) 0.0268\n",
      "Epoch 00179 | Loss 0.5553 | Test Acc 0.9375 | Time(s) 0.0268\n",
      "Epoch 00180 | Loss 0.5542 | Test Acc 0.9375 | Time(s) 0.0267\n",
      "Epoch 00181 | Loss 0.5531 | Test Acc 0.9375 | Time(s) 0.0267\n",
      "Epoch 00182 | Loss 0.5519 | Test Acc 0.9062 | Time(s) 0.0267\n",
      "Epoch 00183 | Loss 0.5508 | Test Acc 0.9062 | Time(s) 0.0267\n",
      "Epoch 00184 | Loss 0.5497 | Test Acc 0.9062 | Time(s) 0.0266\n",
      "Epoch 00185 | Loss 0.5486 | Test Acc 0.9062 | Time(s) 0.0266\n",
      "Epoch 00186 | Loss 0.5475 | Test Acc 0.9062 | Time(s) 0.0266\n",
      "Epoch 00187 | Loss 0.5463 | Test Acc 0.9062 | Time(s) 0.0266\n",
      "Epoch 00188 | Loss 0.5452 | Test Acc 0.9062 | Time(s) 0.0265\n",
      "Epoch 00189 | Loss 0.5441 | Test Acc 0.9062 | Time(s) 0.0266\n",
      "Epoch 00190 | Loss 0.5429 | Test Acc 0.9062 | Time(s) 0.0266\n",
      "Epoch 00191 | Loss 0.5418 | Test Acc 0.9062 | Time(s) 0.0266\n",
      "Epoch 00192 | Loss 0.5406 | Test Acc 0.9062 | Time(s) 0.0265\n",
      "Epoch 00193 | Loss 0.5395 | Test Acc 0.9062 | Time(s) 0.0265\n",
      "Epoch 00194 | Loss 0.5383 | Test Acc 0.9062 | Time(s) 0.0265\n",
      "Epoch 00195 | Loss 0.5371 | Test Acc 0.9062 | Time(s) 0.0265\n",
      "Epoch 00196 | Loss 0.5360 | Test Acc 0.9062 | Time(s) 0.0265\n",
      "Epoch 00197 | Loss 0.5348 | Test Acc 0.9062 | Time(s) 0.0265\n",
      "Epoch 00198 | Loss 0.5336 | Test Acc 0.9062 | Time(s) 0.0264\n",
      "Epoch 00199 | Loss 0.5325 | Test Acc 0.9062 | Time(s) 0.0264\n"
     ]
    },
    {
     "data": {
      "image/png": "[encoded data removed]",
      "text/plain": [
       "<Figure size 432x288 with 1 Axes>"
      ]
     },
     "metadata": {
      "needs_background": "light",
      "tags": []
     },
     "output_type": "display_data"
    },
    {
     "name": "stdout",
     "output_type": "stream",
     "text": [
      "Epoch 00200 | Loss 0.5313 | Test Acc 0.9062 | Time(s) 0.0264\n",
      "Epoch 00201 | Loss 0.5301 | Test Acc 0.9062 | Time(s) 0.0264\n",
      "Epoch 00202 | Loss 0.5289 | Test Acc 0.9062 | Time(s) 0.0264\n",
      "Epoch 00203 | Loss 0.5278 | Test Acc 0.9062 | Time(s) 0.0264\n",
      "Epoch 00204 | Loss 0.5266 | Test Acc 0.9062 | Time(s) 0.0264\n",
      "Epoch 00205 | Loss 0.5254 | Test Acc 0.9062 | Time(s) 0.0264\n",
      "Epoch 00206 | Loss 0.5242 | Test Acc 0.9062 | Time(s) 0.0264\n",
      "Epoch 00207 | Loss 0.5230 | Test Acc 0.9062 | Time(s) 0.0264\n",
      "Epoch 00208 | Loss 0.5218 | Test Acc 0.9062 | Time(s) 0.0264\n",
      "Epoch 00209 | Loss 0.5206 | Test Acc 0.9062 | Time(s) 0.0265\n",
      "Epoch 00210 | Loss 0.5194 | Test Acc 0.9062 | Time(s) 0.0265\n",
      "Epoch 00211 | Loss 0.5182 | Test Acc 0.9062 | Time(s) 0.0265\n",
      "Epoch 00212 | Loss 0.5170 | Test Acc 0.9062 | Time(s) 0.0266\n",
      "Epoch 00213 | Loss 0.5158 | Test Acc 0.9062 | Time(s) 0.0265\n",
      "Epoch 00214 | Loss 0.5146 | Test Acc 0.9062 | Time(s) 0.0265\n",
      "Epoch 00215 | Loss 0.5134 | Test Acc 0.9062 | Time(s) 0.0265\n",
      "Epoch 00216 | Loss 0.5122 | Test Acc 0.9062 | Time(s) 0.0265\n",
      "Epoch 00217 | Loss 0.5110 | Test Acc 0.9062 | Time(s) 0.0265\n",
      "Epoch 00218 | Loss 0.5098 | Test Acc 0.9062 | Time(s) 0.0264\n",
      "Epoch 00219 | Loss 0.5086 | Test Acc 0.9062 | Time(s) 0.0264\n",
      "Epoch 00220 | Loss 0.5074 | Test Acc 0.9062 | Time(s) 0.0264\n",
      "Epoch 00221 | Loss 0.5061 | Test Acc 0.9062 | Time(s) 0.0264\n",
      "Epoch 00222 | Loss 0.5049 | Test Acc 0.9062 | Time(s) 0.0264\n",
      "Epoch 00223 | Loss 0.5037 | Test Acc 0.9062 | Time(s) 0.0263\n",
      "Epoch 00224 | Loss 0.5025 | Test Acc 0.9062 | Time(s) 0.0263\n",
      "Epoch 00225 | Loss 0.5012 | Test Acc 0.9062 | Time(s) 0.0263\n",
      "Epoch 00226 | Loss 0.5000 | Test Acc 0.9062 | Time(s) 0.0263\n",
      "Epoch 00227 | Loss 0.4988 | Test Acc 0.9062 | Time(s) 0.0263\n",
      "Epoch 00228 | Loss 0.4975 | Test Acc 0.9062 | Time(s) 0.0263\n",
      "Epoch 00229 | Loss 0.4963 | Test Acc 0.9062 | Time(s) 0.0263\n",
      "Epoch 00230 | Loss 0.4950 | Test Acc 0.9062 | Time(s) 0.0263\n",
      "Epoch 00231 | Loss 0.4937 | Test Acc 0.9062 | Time(s) 0.0263\n",
      "Epoch 00232 | Loss 0.4925 | Test Acc 0.9062 | Time(s) 0.0263\n",
      "Epoch 00233 | Loss 0.4912 | Test Acc 0.9062 | Time(s) 0.0263\n",
      "Epoch 00234 | Loss 0.4899 | Test Acc 0.9062 | Time(s) 0.0263\n",
      "Epoch 00235 | Loss 0.4886 | Test Acc 0.9062 | Time(s) 0.0264\n",
      "Epoch 00236 | Loss 0.4874 | Test Acc 0.9062 | Time(s) 0.0264\n",
      "Epoch 00237 | Loss 0.4861 | Test Acc 0.9062 | Time(s) 0.0264\n",
      "Epoch 00238 | Loss 0.4848 | Test Acc 0.9062 | Time(s) 0.0263\n",
      "Epoch 00239 | Loss 0.4835 | Test Acc 0.9062 | Time(s) 0.0263\n",
      "Epoch 00240 | Loss 0.4822 | Test Acc 0.9062 | Time(s) 0.0263\n",
      "Epoch 00241 | Loss 0.4810 | Test Acc 0.9062 | Time(s) 0.0263\n",
      "Epoch 00242 | Loss 0.4797 | Test Acc 0.9062 | Time(s) 0.0263\n",
      "Epoch 00243 | Loss 0.4784 | Test Acc 0.9062 | Time(s) 0.0263\n",
      "Epoch 00244 | Loss 0.4771 | Test Acc 0.9062 | Time(s) 0.0263\n",
      "Epoch 00245 | Loss 0.4758 | Test Acc 0.9062 | Time(s) 0.0262\n",
      "Epoch 00246 | Loss 0.4745 | Test Acc 0.9062 | Time(s) 0.0262\n",
      "Epoch 00247 | Loss 0.4732 | Test Acc 0.9062 | Time(s) 0.0262\n",
      "Epoch 00248 | Loss 0.4720 | Test Acc 0.9062 | Time(s) 0.0262\n",
      "Epoch 00249 | Loss 0.4707 | Test Acc 0.9062 | Time(s) 0.0262\n"
     ]
    },
    {
     "data": {
      "image/png": "[encoded data removed]",
      "text/plain": [
       "<Figure size 432x288 with 1 Axes>"
      ]
     },
     "metadata": {
      "needs_background": "light",
      "tags": []
     },
     "output_type": "display_data"
    },
    {
     "name": "stdout",
     "output_type": "stream",
     "text": [
      "Epoch 00250 | Loss 0.4694 | Test Acc 0.9062 | Time(s) 0.0262\n",
      "Epoch 00251 | Loss 0.4681 | Test Acc 0.9062 | Time(s) 0.0263\n",
      "Epoch 00252 | Loss 0.4668 | Test Acc 0.9062 | Time(s) 0.0263\n",
      "Epoch 00253 | Loss 0.4655 | Test Acc 0.8750 | Time(s) 0.0263\n",
      "Epoch 00254 | Loss 0.4642 | Test Acc 0.8750 | Time(s) 0.0264\n",
      "Epoch 00255 | Loss 0.4629 | Test Acc 0.8750 | Time(s) 0.0264\n",
      "Epoch 00256 | Loss 0.4616 | Test Acc 0.8750 | Time(s) 0.0264\n",
      "Epoch 00257 | Loss 0.4603 | Test Acc 0.8750 | Time(s) 0.0265\n",
      "Epoch 00258 | Loss 0.4590 | Test Acc 0.8750 | Time(s) 0.0265\n",
      "Epoch 00259 | Loss 0.4576 | Test Acc 0.8750 | Time(s) 0.0265\n",
      "Epoch 00260 | Loss 0.4563 | Test Acc 0.8750 | Time(s) 0.0265\n",
      "Epoch 00261 | Loss 0.4550 | Test Acc 0.8750 | Time(s) 0.0266\n",
      "Epoch 00262 | Loss 0.4537 | Test Acc 0.8750 | Time(s) 0.0266\n",
      "Epoch 00263 | Loss 0.4524 | Test Acc 0.8750 | Time(s) 0.0266\n",
      "Epoch 00264 | Loss 0.4511 | Test Acc 0.8750 | Time(s) 0.0266\n",
      "Epoch 00265 | Loss 0.4498 | Test Acc 0.8750 | Time(s) 0.0266\n",
      "Epoch 00266 | Loss 0.4485 | Test Acc 0.8750 | Time(s) 0.0266\n",
      "Epoch 00267 | Loss 0.4472 | Test Acc 0.8750 | Time(s) 0.0266\n",
      "Epoch 00268 | Loss 0.4459 | Test Acc 0.8750 | Time(s) 0.0266\n",
      "Epoch 00269 | Loss 0.4446 | Test Acc 0.8750 | Time(s) 0.0266\n",
      "Epoch 00270 | Loss 0.4433 | Test Acc 0.8750 | Time(s) 0.0266\n",
      "Epoch 00271 | Loss 0.4420 | Test Acc 0.8750 | Time(s) 0.0266\n",
      "Epoch 00272 | Loss 0.4407 | Test Acc 0.8750 | Time(s) 0.0267\n",
      "Epoch 00273 | Loss 0.4394 | Test Acc 0.8750 | Time(s) 0.0267\n",
      "Epoch 00274 | Loss 0.4381 | Test Acc 0.8750 | Time(s) 0.0267\n",
      "Epoch 00275 | Loss 0.4368 | Test Acc 0.8750 | Time(s) 0.0267\n",
      "Epoch 00276 | Loss 0.4355 | Test Acc 0.8750 | Time(s) 0.0267\n",
      "Epoch 00277 | Loss 0.4342 | Test Acc 0.8750 | Time(s) 0.0268\n",
      "Epoch 00278 | Loss 0.4328 | Test Acc 0.9062 | Time(s) 0.0268\n",
      "Epoch 00279 | Loss 0.4315 | Test Acc 0.9062 | Time(s) 0.0268\n",
      "Epoch 00280 | Loss 0.4302 | Test Acc 0.9062 | Time(s) 0.0268\n",
      "Epoch 00281 | Loss 0.4289 | Test Acc 0.9062 | Time(s) 0.0268\n",
      "Epoch 00282 | Loss 0.4276 | Test Acc 0.9062 | Time(s) 0.0268\n",
      "Epoch 00283 | Loss 0.4263 | Test Acc 0.9062 | Time(s) 0.0268\n",
      "Epoch 00284 | Loss 0.4250 | Test Acc 0.9062 | Time(s) 0.0268\n",
      "Epoch 00285 | Loss 0.4237 | Test Acc 0.9062 | Time(s) 0.0267\n",
      "Epoch 00286 | Loss 0.4224 | Test Acc 0.9062 | Time(s) 0.0267\n",
      "Epoch 00287 | Loss 0.4211 | Test Acc 0.9062 | Time(s) 0.0267\n",
      "Epoch 00288 | Loss 0.4198 | Test Acc 0.9062 | Time(s) 0.0267\n",
      "Epoch 00289 | Loss 0.4185 | Test Acc 0.9062 | Time(s) 0.0267\n",
      "Epoch 00290 | Loss 0.4172 | Test Acc 0.9062 | Time(s) 0.0267\n",
      "Epoch 00291 | Loss 0.4159 | Test Acc 0.9062 | Time(s) 0.0267\n",
      "Epoch 00292 | Loss 0.4146 | Test Acc 0.9062 | Time(s) 0.0267\n",
      "Epoch 00293 | Loss 0.4133 | Test Acc 0.9062 | Time(s) 0.0267\n",
      "Epoch 00294 | Loss 0.4119 | Test Acc 0.9062 | Time(s) 0.0267\n",
      "Epoch 00295 | Loss 0.4106 | Test Acc 0.9062 | Time(s) 0.0267\n",
      "Epoch 00296 | Loss 0.4093 | Test Acc 0.9062 | Time(s) 0.0267\n",
      "Epoch 00297 | Loss 0.4080 | Test Acc 0.9062 | Time(s) 0.0267\n",
      "Epoch 00298 | Loss 0.4066 | Test Acc 0.9062 | Time(s) 0.0266\n",
      "Epoch 00299 | Loss 0.4053 | Test Acc 0.9062 | Time(s) 0.0266\n"
     ]
    }
   ],
   "source": [
    "import time\n",
    "import numpy as np\n",
    "\n",
    "#g, features, labels, train_mask, test_mask = load_cora_data()\n",
    "\n",
    "net = Net()\n",
    "\n",
    "optimizer = th.optim.Adam(net.parameters(), lr = 2e-4)\n",
    "dur = []\n",
    "\n",
    "# gcn_msg = fn.copy_src(src = 'h', out = 'm')\n",
    "# gcn_reduce = fn.sum(msg = 'm', out = 'h')\n",
    "\n",
    "\n",
    "degrees = dgl_karate_graph.in_degrees(dgl_karate_graph.nodes())\n",
    "\n",
    "# gcn_msg = message_func\n",
    "# gcn_reduce = reduce_func\n",
    "\n",
    "for epoch in range(300):\n",
    "    if epoch >=3:\n",
    "        t0 = time.time()\n",
    "\n",
    "    net.train()\n",
    "    logits = net(dgl_karate_graph, features)\n",
    "    logp = F.log_softmax(logits, 1)\n",
    "    loss = F.nll_loss(logp[train_mask], labels[train_mask])\n",
    "\n",
    "    optimizer.zero_grad()\n",
    "    loss.backward()\n",
    "    optimizer.step()\n",
    "\n",
    "    if epoch >=3:\n",
    "        dur.append(time.time() - t0)\n",
    "\n",
    "    disp = False\n",
    "\n",
    "    if epoch%50 == 0:\n",
    "        disp = epoch\n",
    "\n",
    "    acc = evaluate(net, dgl_karate_graph, features, labels, test_mask,disp)\n",
    "\n",
    "    print(\"Epoch {:05d} | Loss {:.4f} | Test Acc {:.4f} | Time(s) {:.4f}\".format(epoch, loss.item(), acc, np.mean(dur)))\n",
    "    "
   ]
  },
  {
   "cell_type": "code",
   "execution_count": 0,
   "metadata": {
    "colab": {
     "base_uri": "https://localhost:8080/",
     "height": 69
    },
    "colab_type": "code",
    "id": "80wFv3SZkub2",
    "outputId": "d596be96-27a0-4b05-a092-0516f5c5bf83"
   },
   "outputs": [
    {
     "name": "stdout",
     "output_type": "stream",
     "text": [
      "DGLGraph(num_nodes=34, num_edges=156,\n",
      "         ndata_schemes={}\n",
      "         edata_schemes={})\n"
     ]
    }
   ],
   "source": [
    "#Load Karate Club Graph in Networkx\n",
    "nx_karate_graph = nx.karate_club_graph()\n",
    "\n",
    "#Load the networkx object into dgl graph object\n",
    "dgl_karate_graph = dgl.DGLGraph(nx_karate_graph)\n",
    "\n",
    "#print the karate gnx_karate_graphraph object  to get basic graph info\n",
    "print(dgl_karate_graph)"
   ]
  },
  {
   "cell_type": "code",
   "execution_count": 0,
   "metadata": {
    "colab": {
     "base_uri": "https://localhost:8080/",
     "height": 503
    },
    "colab_type": "code",
    "id": "YZhDCCuc83su",
    "outputId": "b1d7f086-6f35-465a-f890-afd5f3eff86c"
   },
   "outputs": [
    {
     "name": "stdout",
     "output_type": "stream",
     "text": [
      "[[1. 0. 0. ... 0. 0. 0.]\n",
      " [0. 1. 0. ... 0. 0. 0.]\n",
      " [0. 0. 1. ... 0. 0. 0.]\n",
      " ...\n",
      " [0. 0. 0. ... 1. 0. 0.]\n",
      " [0. 0. 0. ... 0. 1. 0.]\n",
      " [0. 0. 0. ... 0. 0. 1.]]\n",
      "Features Tensor =  tensor([[1., 0., 0.,  ..., 0., 0., 0.],\n",
      "        [0., 1., 0.,  ..., 0., 0., 0.],\n",
      "        [0., 0., 1.,  ..., 0., 0., 0.],\n",
      "        ...,\n",
      "        [0., 0., 0.,  ..., 1., 0., 0.],\n",
      "        [0., 0., 0.,  ..., 0., 1., 0.],\n",
      "        [0., 0., 0.,  ..., 0., 0., 1.]])\n",
      "Shape of Features Tensor =  torch.Size([34, 34])\n",
      "Labels Tensor =  tensor([0, 0, 0, 0, 0, 0, 0, 0, 0, 1, 0, 0, 0, 0, 1, 1, 0, 0, 1, 0, 1, 0, 1, 1,\n",
      "        1, 1, 1, 1, 1, 1, 1, 1, 1, 1])\n",
      "Shape of Labels Tensor =  torch.Size([34])\n",
      "train_mask Tensor =  tensor([ True, False, False, False, False, False, False, False, False, False,\n",
      "        False, False, False, False, False, False, False, False, False, False,\n",
      "        False, False, False, False, False, False, False, False, False, False,\n",
      "        False, False, False,  True])\n",
      "Shape of train_mask Tensor =  torch.Size([34])\n",
      "test_mask Tensor =  tensor([False,  True,  True,  True,  True,  True,  True,  True,  True,  True,\n",
      "         True,  True,  True,  True,  True,  True,  True,  True,  True,  True,\n",
      "         True,  True,  True,  True,  True,  True,  True,  True,  True,  True,\n",
      "         True,  True,  True, False])\n",
      "Shape of test_mask Tensor =  torch.Size([34])\n"
     ]
    }
   ],
   "source": [
    "# def my_func(arg):\n",
    "#   arg = tf.convert_to_tensor(arg, dtype =tf.float64)\n",
    "#   return arg\n",
    "\n",
    "def make_one_hot_encoded_vector(n = 34):\n",
    "    arr = np.zeros((n,n))\n",
    "    for i in range(n):\n",
    "        arr[i,i] = 1\n",
    "    print(arr)\n",
    "    return arr.astype(float)\n",
    "\n",
    "def make_train_test_masks(n,train_set):\n",
    "    test_mask = [True] * n\n",
    "    train_mask = [False] * n\n",
    "    for index in train_set:\n",
    "        train_mask[index] = True\n",
    "        test_mask[index] = False\n",
    "    return np.array(train_mask),np.array(test_mask)\n",
    "\n",
    "def make_labels_for_zachary_graph(graph):\n",
    "    labels = np.zeros(len(list(graph.nodes())))\n",
    "    communities = {\"Mr. Hi\" : 0,\"Officer\" : 1}\n",
    "    for i in graph.nodes():\n",
    "        community_name = graph.nodes[i]['club']\n",
    "        labels[i] = communities[community_name]\n",
    "    return labels\n",
    "\n",
    "#Making the one-hot encoded Features\n",
    "one_hot_encoded_vector = make_one_hot_encoded_vector(n = 34)\n",
    "\n",
    "#Converting it into Tensor\n",
    "features = th.from_numpy(one_hot_encoded_vector).float()\n",
    "print(\"Features Tensor = \",features)\n",
    "print(\"Shape of Features Tensor = \",features.shape)\n",
    "\n",
    "#Making the labels for the Zachary Graph\n",
    "#communities = {\"Mr. Hi\" : 0,\"Officer\" : 1}\n",
    "zachary_labels = make_labels_for_zachary_graph(nx_karate_graph)\n",
    "\n",
    "#Converting it into Tensor\n",
    "labels = th.from_numpy(zachary_labels).long()\n",
    "print(\"Labels Tensor = \",labels)\n",
    "print(\"Shape of Labels Tensor = \",labels.shape)\n",
    "\n",
    "#Make Train mask and Test Mask \n",
    "Train_Set_Labels = [0,33]\n",
    "train_mask_arr,test_mask_arr = make_train_test_masks(34,Train_Set_Labels)\n",
    "\n",
    "#Converting it into Tensor\n",
    "train_mask = th.from_numpy(train_mask_arr)\n",
    "print(\"train_mask Tensor = \",train_mask)\n",
    "print(\"Shape of train_mask Tensor = \",train_mask.shape)\n",
    "\n",
    "#Converting it into Tensor\n",
    "test_mask = th.from_numpy(test_mask_arr)\n",
    "print(\"test_mask Tensor = \",test_mask)\n",
    "print(\"Shape of test_mask Tensor = \",test_mask.shape)\n",
    "\n",
    "\n",
    "print(features.shape)\n",
    "print(labels.shape)\n",
    "print(train_mask.shape)\n",
    "print(test_mask.shape)"
   ]
  },
  {
   "cell_type": "code",
   "execution_count": 0,
   "metadata": {
    "colab": {},
    "colab_type": "code",
    "id": "ci0Z5kdmnKgo"
   },
   "outputs": [],
   "source": []
  }
 ],
 "metadata": {
  "accelerator": "GPU",
  "colab": {
   "collapsed_sections": [],
   "name": "MLN_Q3.ipynb",
   "provenance": []
  },
  "kernelspec": {
   "display_name": "Python 3",
   "language": "python",
   "name": "python3"
  },
  "language_info": {
   "codemirror_mode": {
    "name": "ipython",
    "version": 3
   },
   "file_extension": ".py",
   "mimetype": "text/x-python",
   "name": "python",
   "nbconvert_exporter": "python",
   "pygments_lexer": "ipython3",
   "version": "3.6.9"
  }
 },
 "nbformat": 4,
 "nbformat_minor": 1
}
