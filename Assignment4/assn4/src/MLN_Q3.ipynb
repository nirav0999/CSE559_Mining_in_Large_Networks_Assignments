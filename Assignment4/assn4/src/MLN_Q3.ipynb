{
  "nbformat": 4,
  "nbformat_minor": 0,
  "metadata": {
    "colab": {
      "name": "MLN_Q3.ipynb",
      "provenance": [],
      "collapsed_sections": []
    },
    "kernelspec": {
      "name": "python3",
      "display_name": "Python 3"
    },
    "accelerator": "GPU"
  },
  "cells": [
    {
      "cell_type": "markdown",
      "metadata": {
        "id": "bsFOZAWEd55b",
        "colab_type": "text"
      },
      "source": [
        "# Install Libraries"
      ]
    },
    {
      "cell_type": "code",
      "metadata": {
        "id": "pYiGcuQ-d0Pc",
        "colab_type": "code",
        "colab": {
          "base_uri": "https://localhost:8080/",
          "height": 280
        },
        "outputId": "e0b3100f-e37f-4806-dbce-5cad7ff6e7e7"
      },
      "source": [
        "!pip install dgl"
      ],
      "execution_count": 1,
      "outputs": [
        {
          "output_type": "stream",
          "text": [
            "Collecting dgl\n",
            "\u001b[?25l  Downloading https://files.pythonhosted.org/packages/c5/b4/84e4ebd70ef3985181ef5d2d2a366a45af0e3cd18d249fb212ac03f683cf/dgl-0.4.3.post2-cp36-cp36m-manylinux1_x86_64.whl (3.0MB)\n",
            "\r\u001b[K     |                                | 10kB 17.9MB/s eta 0:00:01\r\u001b[K     |▏                               | 20kB 1.7MB/s eta 0:00:02\r\u001b[K     |▎                               | 30kB 2.5MB/s eta 0:00:02\r\u001b[K     |▍                               | 40kB 3.2MB/s eta 0:00:01\r\u001b[K     |▌                               | 51kB 2.0MB/s eta 0:00:02\r\u001b[K     |▋                               | 61kB 2.4MB/s eta 0:00:02\r\u001b[K     |▊                               | 71kB 2.8MB/s eta 0:00:02\r\u001b[K     |▉                               | 81kB 3.1MB/s eta 0:00:01\r\u001b[K     |█                               | 92kB 2.4MB/s eta 0:00:02\r\u001b[K     |█                               | 102kB 2.7MB/s eta 0:00:02\r\u001b[K     |█▏                              | 112kB 2.7MB/s eta 0:00:02\r\u001b[K     |█▎                              | 122kB 2.7MB/s eta 0:00:02\r\u001b[K     |█▍                              | 133kB 2.7MB/s eta 0:00:02\r\u001b[K     |█▌                              | 143kB 2.7MB/s eta 0:00:02\r\u001b[K     |█▋                              | 153kB 2.7MB/s eta 0:00:02\r\u001b[K     |█▊                              | 163kB 2.7MB/s eta 0:00:02\r\u001b[K     |█▉                              | 174kB 2.7MB/s eta 0:00:02\r\u001b[K     |██                              | 184kB 2.7MB/s eta 0:00:02\r\u001b[K     |██                              | 194kB 2.7MB/s eta 0:00:02\r\u001b[K     |██▏                             | 204kB 2.7MB/s eta 0:00:02\r\u001b[K     |██▎                             | 215kB 2.7MB/s eta 0:00:02\r\u001b[K     |██▍                             | 225kB 2.7MB/s eta 0:00:02\r\u001b[K     |██▌                             | 235kB 2.7MB/s eta 0:00:02\r\u001b[K     |██▋                             | 245kB 2.7MB/s eta 0:00:02\r\u001b[K     |██▊                             | 256kB 2.7MB/s eta 0:00:02\r\u001b[K     |██▉                             | 266kB 2.7MB/s eta 0:00:02\r\u001b[K     |███                             | 276kB 2.7MB/s eta 0:00:02\r\u001b[K     |███                             | 286kB 2.7MB/s eta 0:00:02\r\u001b[K     |███▏                            | 296kB 2.7MB/s eta 0:00:01\r\u001b[K     |███▎                            | 307kB 2.7MB/s eta 0:00:01\r\u001b[K     |███▍                            | 317kB 2.7MB/s eta 0:00:01\r\u001b[K     |███▌                            | 327kB 2.7MB/s eta 0:00:01\r\u001b[K     |███▋                            | 337kB 2.7MB/s eta 0:00:01\r\u001b[K     |███▊                            | 348kB 2.7MB/s eta 0:00:01\r\u001b[K     |███▉                            | 358kB 2.7MB/s eta 0:00:01\r\u001b[K     |████                            | 368kB 2.7MB/s eta 0:00:01\r\u001b[K     |████                            | 378kB 2.7MB/s eta 0:00:01\r\u001b[K     |████▏                           | 389kB 2.7MB/s eta 0:00:01\r\u001b[K     |████▎                           | 399kB 2.7MB/s eta 0:00:01\r\u001b[K     |████▍                           | 409kB 2.7MB/s eta 0:00:01\r\u001b[K     |████▌                           | 419kB 2.7MB/s eta 0:00:01\r\u001b[K     |████▋                           | 430kB 2.7MB/s eta 0:00:01\r\u001b[K     |████▊                           | 440kB 2.7MB/s eta 0:00:01\r\u001b[K     |████▉                           | 450kB 2.7MB/s eta 0:00:01\r\u001b[K     |█████                           | 460kB 2.7MB/s eta 0:00:01\r\u001b[K     |█████                           | 471kB 2.7MB/s eta 0:00:01\r\u001b[K     |█████▏                          | 481kB 2.7MB/s eta 0:00:01\r\u001b[K     |█████▎                          | 491kB 2.7MB/s eta 0:00:01\r\u001b[K     |█████▍                          | 501kB 2.7MB/s eta 0:00:01\r\u001b[K     |█████▌                          | 512kB 2.7MB/s eta 0:00:01\r\u001b[K     |█████▋                          | 522kB 2.7MB/s eta 0:00:01\r\u001b[K     |█████▊                          | 532kB 2.7MB/s eta 0:00:01\r\u001b[K     |█████▉                          | 542kB 2.7MB/s eta 0:00:01\r\u001b[K     |██████                          | 552kB 2.7MB/s eta 0:00:01\r\u001b[K     |██████                          | 563kB 2.7MB/s eta 0:00:01\r\u001b[K     |██████▏                         | 573kB 2.7MB/s eta 0:00:01\r\u001b[K     |██████▎                         | 583kB 2.7MB/s eta 0:00:01\r\u001b[K     |██████▍                         | 593kB 2.7MB/s eta 0:00:01\r\u001b[K     |██████▌                         | 604kB 2.7MB/s eta 0:00:01\r\u001b[K     |██████▋                         | 614kB 2.7MB/s eta 0:00:01\r\u001b[K     |██████▊                         | 624kB 2.7MB/s eta 0:00:01\r\u001b[K     |██████▉                         | 634kB 2.7MB/s eta 0:00:01\r\u001b[K     |███████                         | 645kB 2.7MB/s eta 0:00:01\r\u001b[K     |███████                         | 655kB 2.7MB/s eta 0:00:01\r\u001b[K     |███████▏                        | 665kB 2.7MB/s eta 0:00:01\r\u001b[K     |███████▎                        | 675kB 2.7MB/s eta 0:00:01\r\u001b[K     |███████▍                        | 686kB 2.7MB/s eta 0:00:01\r\u001b[K     |███████▌                        | 696kB 2.7MB/s eta 0:00:01\r\u001b[K     |███████▋                        | 706kB 2.7MB/s eta 0:00:01\r\u001b[K     |███████▊                        | 716kB 2.7MB/s eta 0:00:01\r\u001b[K     |███████▉                        | 727kB 2.7MB/s eta 0:00:01\r\u001b[K     |████████                        | 737kB 2.7MB/s eta 0:00:01\r\u001b[K     |████████                        | 747kB 2.7MB/s eta 0:00:01\r\u001b[K     |████████▏                       | 757kB 2.7MB/s eta 0:00:01\r\u001b[K     |████████▎                       | 768kB 2.7MB/s eta 0:00:01\r\u001b[K     |████████▍                       | 778kB 2.7MB/s eta 0:00:01\r\u001b[K     |████████▌                       | 788kB 2.7MB/s eta 0:00:01\r\u001b[K     |████████▋                       | 798kB 2.7MB/s eta 0:00:01\r\u001b[K     |████████▊                       | 808kB 2.7MB/s eta 0:00:01\r\u001b[K     |████████▉                       | 819kB 2.7MB/s eta 0:00:01\r\u001b[K     |█████████                       | 829kB 2.7MB/s eta 0:00:01\r\u001b[K     |█████████                       | 839kB 2.7MB/s eta 0:00:01\r\u001b[K     |█████████▏                      | 849kB 2.7MB/s eta 0:00:01\r\u001b[K     |█████████▎                      | 860kB 2.7MB/s eta 0:00:01\r\u001b[K     |█████████▍                      | 870kB 2.7MB/s eta 0:00:01\r\u001b[K     |█████████▌                      | 880kB 2.7MB/s eta 0:00:01\r\u001b[K     |█████████▋                      | 890kB 2.7MB/s eta 0:00:01\r\u001b[K     |█████████▊                      | 901kB 2.7MB/s eta 0:00:01\r\u001b[K     |█████████▉                      | 911kB 2.7MB/s eta 0:00:01\r\u001b[K     |██████████                      | 921kB 2.7MB/s eta 0:00:01\r\u001b[K     |██████████                      | 931kB 2.7MB/s eta 0:00:01\r\u001b[K     |██████████▏                     | 942kB 2.7MB/s eta 0:00:01\r\u001b[K     |██████████▎                     | 952kB 2.7MB/s eta 0:00:01\r\u001b[K     |██████████▍                     | 962kB 2.7MB/s eta 0:00:01\r\u001b[K     |██████████▌                     | 972kB 2.7MB/s eta 0:00:01\r\u001b[K     |██████████▋                     | 983kB 2.7MB/s eta 0:00:01\r\u001b[K     |██████████▊                     | 993kB 2.7MB/s eta 0:00:01\r\u001b[K     |██████████▉                     | 1.0MB 2.7MB/s eta 0:00:01\r\u001b[K     |███████████                     | 1.0MB 2.7MB/s eta 0:00:01\r\u001b[K     |███████████                     | 1.0MB 2.7MB/s eta 0:00:01\r\u001b[K     |███████████▏                    | 1.0MB 2.7MB/s eta 0:00:01\r\u001b[K     |███████████▎                    | 1.0MB 2.7MB/s eta 0:00:01\r\u001b[K     |███████████▍                    | 1.1MB 2.7MB/s eta 0:00:01\r\u001b[K     |███████████▌                    | 1.1MB 2.7MB/s eta 0:00:01\r\u001b[K     |███████████▋                    | 1.1MB 2.7MB/s eta 0:00:01\r\u001b[K     |███████████▊                    | 1.1MB 2.7MB/s eta 0:00:01\r\u001b[K     |███████████▉                    | 1.1MB 2.7MB/s eta 0:00:01\r\u001b[K     |████████████                    | 1.1MB 2.7MB/s eta 0:00:01\r\u001b[K     |████████████                    | 1.1MB 2.7MB/s eta 0:00:01\r\u001b[K     |████████████▏                   | 1.1MB 2.7MB/s eta 0:00:01\r\u001b[K     |████████████▎                   | 1.1MB 2.7MB/s eta 0:00:01\r\u001b[K     |████████████▍                   | 1.1MB 2.7MB/s eta 0:00:01\r\u001b[K     |████████████▌                   | 1.2MB 2.7MB/s eta 0:00:01\r\u001b[K     |████████████▋                   | 1.2MB 2.7MB/s eta 0:00:01\r\u001b[K     |████████████▊                   | 1.2MB 2.7MB/s eta 0:00:01\r\u001b[K     |████████████▉                   | 1.2MB 2.7MB/s eta 0:00:01\r\u001b[K     |█████████████                   | 1.2MB 2.7MB/s eta 0:00:01\r\u001b[K     |█████████████                   | 1.2MB 2.7MB/s eta 0:00:01\r\u001b[K     |█████████████▏                  | 1.2MB 2.7MB/s eta 0:00:01\r\u001b[K     |█████████████▎                  | 1.2MB 2.7MB/s eta 0:00:01\r\u001b[K     |█████████████▍                  | 1.2MB 2.7MB/s eta 0:00:01\r\u001b[K     |█████████████▌                  | 1.2MB 2.7MB/s eta 0:00:01\r\u001b[K     |█████████████▋                  | 1.3MB 2.7MB/s eta 0:00:01\r\u001b[K     |█████████████▊                  | 1.3MB 2.7MB/s eta 0:00:01\r\u001b[K     |█████████████▉                  | 1.3MB 2.7MB/s eta 0:00:01\r\u001b[K     |██████████████                  | 1.3MB 2.7MB/s eta 0:00:01\r\u001b[K     |██████████████                  | 1.3MB 2.7MB/s eta 0:00:01\r\u001b[K     |██████████████▏                 | 1.3MB 2.7MB/s eta 0:00:01\r\u001b[K     |██████████████▎                 | 1.3MB 2.7MB/s eta 0:00:01\r\u001b[K     |██████████████▍                 | 1.3MB 2.7MB/s eta 0:00:01\r\u001b[K     |██████████████▌                 | 1.3MB 2.7MB/s eta 0:00:01\r\u001b[K     |██████████████▋                 | 1.4MB 2.7MB/s eta 0:00:01\r\u001b[K     |██████████████▊                 | 1.4MB 2.7MB/s eta 0:00:01\r\u001b[K     |██████████████▉                 | 1.4MB 2.7MB/s eta 0:00:01\r\u001b[K     |███████████████                 | 1.4MB 2.7MB/s eta 0:00:01\r\u001b[K     |███████████████                 | 1.4MB 2.7MB/s eta 0:00:01\r\u001b[K     |███████████████▏                | 1.4MB 2.7MB/s eta 0:00:01\r\u001b[K     |███████████████▎                | 1.4MB 2.7MB/s eta 0:00:01\r\u001b[K     |███████████████▍                | 1.4MB 2.7MB/s eta 0:00:01\r\u001b[K     |███████████████▌                | 1.4MB 2.7MB/s eta 0:00:01\r\u001b[K     |███████████████▋                | 1.4MB 2.7MB/s eta 0:00:01\r\u001b[K     |███████████████▊                | 1.5MB 2.7MB/s eta 0:00:01\r\u001b[K     |███████████████▉                | 1.5MB 2.7MB/s eta 0:00:01\r\u001b[K     |████████████████                | 1.5MB 2.7MB/s eta 0:00:01\r\u001b[K     |████████████████                | 1.5MB 2.7MB/s eta 0:00:01\r\u001b[K     |████████████████▏               | 1.5MB 2.7MB/s eta 0:00:01\r\u001b[K     |████████████████▎               | 1.5MB 2.7MB/s eta 0:00:01\r\u001b[K     |████████████████▍               | 1.5MB 2.7MB/s eta 0:00:01\r\u001b[K     |████████████████▌               | 1.5MB 2.7MB/s eta 0:00:01\r\u001b[K     |████████████████▋               | 1.5MB 2.7MB/s eta 0:00:01\r\u001b[K     |████████████████▊               | 1.5MB 2.7MB/s eta 0:00:01\r\u001b[K     |████████████████▉               | 1.6MB 2.7MB/s eta 0:00:01\r\u001b[K     |█████████████████               | 1.6MB 2.7MB/s eta 0:00:01\r\u001b[K     |█████████████████               | 1.6MB 2.7MB/s eta 0:00:01\r\u001b[K     |█████████████████▏              | 1.6MB 2.7MB/s eta 0:00:01\r\u001b[K     |█████████████████▎              | 1.6MB 2.7MB/s eta 0:00:01\r\u001b[K     |█████████████████▍              | 1.6MB 2.7MB/s eta 0:00:01\r\u001b[K     |█████████████████▌              | 1.6MB 2.7MB/s eta 0:00:01\r\u001b[K     |█████████████████▋              | 1.6MB 2.7MB/s eta 0:00:01\r\u001b[K     |█████████████████▋              | 1.6MB 2.7MB/s eta 0:00:01\r\u001b[K     |█████████████████▊              | 1.6MB 2.7MB/s eta 0:00:01\r\u001b[K     |█████████████████▉              | 1.7MB 2.7MB/s eta 0:00:01\r\u001b[K     |██████████████████              | 1.7MB 2.7MB/s eta 0:00:01\r\u001b[K     |██████████████████              | 1.7MB 2.7MB/s eta 0:00:01\r\u001b[K     |██████████████████▏             | 1.7MB 2.7MB/s eta 0:00:01\r\u001b[K     |██████████████████▎             | 1.7MB 2.7MB/s eta 0:00:01\r\u001b[K     |██████████████████▍             | 1.7MB 2.7MB/s eta 0:00:01\r\u001b[K     |██████████████████▌             | 1.7MB 2.7MB/s eta 0:00:01\r\u001b[K     |██████████████████▋             | 1.7MB 2.7MB/s eta 0:00:01\r\u001b[K     |██████████████████▊             | 1.7MB 2.7MB/s eta 0:00:01\r\u001b[K     |██████████████████▉             | 1.8MB 2.7MB/s eta 0:00:01\r\u001b[K     |███████████████████             | 1.8MB 2.7MB/s eta 0:00:01\r\u001b[K     |███████████████████             | 1.8MB 2.7MB/s eta 0:00:01\r\u001b[K     |███████████████████▏            | 1.8MB 2.7MB/s eta 0:00:01\r\u001b[K     |███████████████████▎            | 1.8MB 2.7MB/s eta 0:00:01\r\u001b[K     |███████████████████▍            | 1.8MB 2.7MB/s eta 0:00:01\r\u001b[K     |███████████████████▌            | 1.8MB 2.7MB/s eta 0:00:01\r\u001b[K     |███████████████████▋            | 1.8MB 2.7MB/s eta 0:00:01\r\u001b[K     |███████████████████▊            | 1.8MB 2.7MB/s eta 0:00:01\r\u001b[K     |███████████████████▉            | 1.8MB 2.7MB/s eta 0:00:01\r\u001b[K     |████████████████████            | 1.9MB 2.7MB/s eta 0:00:01\r\u001b[K     |████████████████████            | 1.9MB 2.7MB/s eta 0:00:01\r\u001b[K     |████████████████████▏           | 1.9MB 2.7MB/s eta 0:00:01\r\u001b[K     |████████████████████▎           | 1.9MB 2.7MB/s eta 0:00:01\r\u001b[K     |████████████████████▍           | 1.9MB 2.7MB/s eta 0:00:01\r\u001b[K     |████████████████████▌           | 1.9MB 2.7MB/s eta 0:00:01\r\u001b[K     |████████████████████▋           | 1.9MB 2.7MB/s eta 0:00:01\r\u001b[K     |████████████████████▊           | 1.9MB 2.7MB/s eta 0:00:01\r\u001b[K     |████████████████████▉           | 1.9MB 2.7MB/s eta 0:00:01\r\u001b[K     |█████████████████████           | 1.9MB 2.7MB/s eta 0:00:01\r\u001b[K     |█████████████████████           | 2.0MB 2.7MB/s eta 0:00:01\r\u001b[K     |█████████████████████▏          | 2.0MB 2.7MB/s eta 0:00:01\r\u001b[K     |█████████████████████▎          | 2.0MB 2.7MB/s eta 0:00:01\r\u001b[K     |█████████████████████▍          | 2.0MB 2.7MB/s eta 0:00:01\r\u001b[K     |█████████████████████▌          | 2.0MB 2.7MB/s eta 0:00:01\r\u001b[K     |█████████████████████▋          | 2.0MB 2.7MB/s eta 0:00:01\r\u001b[K     |█████████████████████▊          | 2.0MB 2.7MB/s eta 0:00:01\r\u001b[K     |█████████████████████▉          | 2.0MB 2.7MB/s eta 0:00:01\r\u001b[K     |██████████████████████          | 2.0MB 2.7MB/s eta 0:00:01\r\u001b[K     |██████████████████████          | 2.0MB 2.7MB/s eta 0:00:01\r\u001b[K     |██████████████████████▏         | 2.1MB 2.7MB/s eta 0:00:01\r\u001b[K     |██████████████████████▎         | 2.1MB 2.7MB/s eta 0:00:01\r\u001b[K     |██████████████████████▍         | 2.1MB 2.7MB/s eta 0:00:01\r\u001b[K     |██████████████████████▌         | 2.1MB 2.7MB/s eta 0:00:01\r\u001b[K     |██████████████████████▋         | 2.1MB 2.7MB/s eta 0:00:01\r\u001b[K     |██████████████████████▊         | 2.1MB 2.7MB/s eta 0:00:01\r\u001b[K     |██████████████████████▉         | 2.1MB 2.7MB/s eta 0:00:01\r\u001b[K     |███████████████████████         | 2.1MB 2.7MB/s eta 0:00:01\r\u001b[K     |███████████████████████         | 2.1MB 2.7MB/s eta 0:00:01\r\u001b[K     |███████████████████████▏        | 2.2MB 2.7MB/s eta 0:00:01\r\u001b[K     |███████████████████████▎        | 2.2MB 2.7MB/s eta 0:00:01\r\u001b[K     |███████████████████████▍        | 2.2MB 2.7MB/s eta 0:00:01\r\u001b[K     |███████████████████████▌        | 2.2MB 2.7MB/s eta 0:00:01\r\u001b[K     |███████████████████████▋        | 2.2MB 2.7MB/s eta 0:00:01\r\u001b[K     |███████████████████████▊        | 2.2MB 2.7MB/s eta 0:00:01\r\u001b[K     |███████████████████████▉        | 2.2MB 2.7MB/s eta 0:00:01\r\u001b[K     |████████████████████████        | 2.2MB 2.7MB/s eta 0:00:01\r\u001b[K     |████████████████████████        | 2.2MB 2.7MB/s eta 0:00:01\r\u001b[K     |████████████████████████▏       | 2.2MB 2.7MB/s eta 0:00:01\r\u001b[K     |████████████████████████▎       | 2.3MB 2.7MB/s eta 0:00:01\r\u001b[K     |████████████████████████▍       | 2.3MB 2.7MB/s eta 0:00:01\r\u001b[K     |████████████████████████▌       | 2.3MB 2.7MB/s eta 0:00:01\r\u001b[K     |████████████████████████▋       | 2.3MB 2.7MB/s eta 0:00:01\r\u001b[K     |████████████████████████▊       | 2.3MB 2.7MB/s eta 0:00:01\r\u001b[K     |████████████████████████▉       | 2.3MB 2.7MB/s eta 0:00:01\r\u001b[K     |█████████████████████████       | 2.3MB 2.7MB/s eta 0:00:01\r\u001b[K     |█████████████████████████       | 2.3MB 2.7MB/s eta 0:00:01\r\u001b[K     |█████████████████████████▏      | 2.3MB 2.7MB/s eta 0:00:01\r\u001b[K     |█████████████████████████▎      | 2.3MB 2.7MB/s eta 0:00:01\r\u001b[K     |█████████████████████████▍      | 2.4MB 2.7MB/s eta 0:00:01\r\u001b[K     |█████████████████████████▌      | 2.4MB 2.7MB/s eta 0:00:01\r\u001b[K     |█████████████████████████▋      | 2.4MB 2.7MB/s eta 0:00:01\r\u001b[K     |█████████████████████████▊      | 2.4MB 2.7MB/s eta 0:00:01\r\u001b[K     |█████████████████████████▉      | 2.4MB 2.7MB/s eta 0:00:01\r\u001b[K     |██████████████████████████      | 2.4MB 2.7MB/s eta 0:00:01\r\u001b[K     |██████████████████████████      | 2.4MB 2.7MB/s eta 0:00:01\r\u001b[K     |██████████████████████████▏     | 2.4MB 2.7MB/s eta 0:00:01\r\u001b[K     |██████████████████████████▎     | 2.4MB 2.7MB/s eta 0:00:01\r\u001b[K     |██████████████████████████▍     | 2.4MB 2.7MB/s eta 0:00:01\r\u001b[K     |██████████████████████████▌     | 2.5MB 2.7MB/s eta 0:00:01\r\u001b[K     |██████████████████████████▋     | 2.5MB 2.7MB/s eta 0:00:01\r\u001b[K     |██████████████████████████▊     | 2.5MB 2.7MB/s eta 0:00:01\r\u001b[K     |██████████████████████████▉     | 2.5MB 2.7MB/s eta 0:00:01\r\u001b[K     |███████████████████████████     | 2.5MB 2.7MB/s eta 0:00:01\r\u001b[K     |███████████████████████████     | 2.5MB 2.7MB/s eta 0:00:01\r\u001b[K     |███████████████████████████▏    | 2.5MB 2.7MB/s eta 0:00:01\r\u001b[K     |███████████████████████████▎    | 2.5MB 2.7MB/s eta 0:00:01\r\u001b[K     |███████████████████████████▍    | 2.5MB 2.7MB/s eta 0:00:01\r\u001b[K     |███████████████████████████▌    | 2.5MB 2.7MB/s eta 0:00:01\r\u001b[K     |███████████████████████████▋    | 2.6MB 2.7MB/s eta 0:00:01\r\u001b[K     |███████████████████████████▊    | 2.6MB 2.7MB/s eta 0:00:01\r\u001b[K     |███████████████████████████▉    | 2.6MB 2.7MB/s eta 0:00:01\r\u001b[K     |████████████████████████████    | 2.6MB 2.7MB/s eta 0:00:01\r\u001b[K     |████████████████████████████    | 2.6MB 2.7MB/s eta 0:00:01\r\u001b[K     |████████████████████████████▏   | 2.6MB 2.7MB/s eta 0:00:01\r\u001b[K     |████████████████████████████▎   | 2.6MB 2.7MB/s eta 0:00:01\r\u001b[K     |████████████████████████████▍   | 2.6MB 2.7MB/s eta 0:00:01\r\u001b[K     |████████████████████████████▌   | 2.6MB 2.7MB/s eta 0:00:01\r\u001b[K     |████████████████████████████▋   | 2.7MB 2.7MB/s eta 0:00:01\r\u001b[K     |████████████████████████████▊   | 2.7MB 2.7MB/s eta 0:00:01\r\u001b[K     |████████████████████████████▉   | 2.7MB 2.7MB/s eta 0:00:01\r\u001b[K     |█████████████████████████████   | 2.7MB 2.7MB/s eta 0:00:01\r\u001b[K     |█████████████████████████████   | 2.7MB 2.7MB/s eta 0:00:01\r\u001b[K     |█████████████████████████████▏  | 2.7MB 2.7MB/s eta 0:00:01\r\u001b[K     |█████████████████████████████▎  | 2.7MB 2.7MB/s eta 0:00:01\r\u001b[K     |█████████████████████████████▍  | 2.7MB 2.7MB/s eta 0:00:01\r\u001b[K     |█████████████████████████████▌  | 2.7MB 2.7MB/s eta 0:00:01\r\u001b[K     |█████████████████████████████▋  | 2.7MB 2.7MB/s eta 0:00:01\r\u001b[K     |█████████████████████████████▊  | 2.8MB 2.7MB/s eta 0:00:01\r\u001b[K     |█████████████████████████████▉  | 2.8MB 2.7MB/s eta 0:00:01\r\u001b[K     |██████████████████████████████  | 2.8MB 2.7MB/s eta 0:00:01\r\u001b[K     |██████████████████████████████  | 2.8MB 2.7MB/s eta 0:00:01\r\u001b[K     |██████████████████████████████▏ | 2.8MB 2.7MB/s eta 0:00:01\r\u001b[K     |██████████████████████████████▎ | 2.8MB 2.7MB/s eta 0:00:01\r\u001b[K     |██████████████████████████████▍ | 2.8MB 2.7MB/s eta 0:00:01\r\u001b[K     |██████████████████████████████▌ | 2.8MB 2.7MB/s eta 0:00:01\r\u001b[K     |██████████████████████████████▋ | 2.8MB 2.7MB/s eta 0:00:01\r\u001b[K     |██████████████████████████████▊ | 2.8MB 2.7MB/s eta 0:00:01\r\u001b[K     |██████████████████████████████▉ | 2.9MB 2.7MB/s eta 0:00:01\r\u001b[K     |███████████████████████████████ | 2.9MB 2.7MB/s eta 0:00:01\r\u001b[K     |███████████████████████████████ | 2.9MB 2.7MB/s eta 0:00:01\r\u001b[K     |███████████████████████████████▏| 2.9MB 2.7MB/s eta 0:00:01\r\u001b[K     |███████████████████████████████▎| 2.9MB 2.7MB/s eta 0:00:01\r\u001b[K     |███████████████████████████████▍| 2.9MB 2.7MB/s eta 0:00:01\r\u001b[K     |███████████████████████████████▌| 2.9MB 2.7MB/s eta 0:00:01\r\u001b[K     |███████████████████████████████▋| 2.9MB 2.7MB/s eta 0:00:01\r\u001b[K     |███████████████████████████████▊| 2.9MB 2.7MB/s eta 0:00:01\r\u001b[K     |███████████████████████████████▉| 2.9MB 2.7MB/s eta 0:00:01\r\u001b[K     |████████████████████████████████| 3.0MB 2.7MB/s eta 0:00:01\r\u001b[K     |████████████████████████████████| 3.0MB 2.7MB/s \n",
            "\u001b[?25hRequirement already satisfied: requests>=2.19.0 in /usr/local/lib/python3.6/dist-packages (from dgl) (2.21.0)\n",
            "Requirement already satisfied: networkx>=2.1 in /usr/local/lib/python3.6/dist-packages (from dgl) (2.4)\n",
            "Requirement already satisfied: numpy>=1.14.0 in /usr/local/lib/python3.6/dist-packages (from dgl) (1.18.2)\n",
            "Requirement already satisfied: scipy>=1.1.0 in /usr/local/lib/python3.6/dist-packages (from dgl) (1.4.1)\n",
            "Requirement already satisfied: urllib3<1.25,>=1.21.1 in /usr/local/lib/python3.6/dist-packages (from requests>=2.19.0->dgl) (1.24.3)\n",
            "Requirement already satisfied: chardet<3.1.0,>=3.0.2 in /usr/local/lib/python3.6/dist-packages (from requests>=2.19.0->dgl) (3.0.4)\n",
            "Requirement already satisfied: idna<2.9,>=2.5 in /usr/local/lib/python3.6/dist-packages (from requests>=2.19.0->dgl) (2.8)\n",
            "Requirement already satisfied: certifi>=2017.4.17 in /usr/local/lib/python3.6/dist-packages (from requests>=2.19.0->dgl) (2020.4.5.1)\n",
            "Requirement already satisfied: decorator>=4.3.0 in /usr/local/lib/python3.6/dist-packages (from networkx>=2.1->dgl) (4.4.2)\n",
            "Installing collected packages: dgl\n",
            "Successfully installed dgl-0.4.3.post2\n"
          ],
          "name": "stdout"
        }
      ]
    },
    {
      "cell_type": "markdown",
      "metadata": {
        "id": "6zLGAUORd_P8",
        "colab_type": "text"
      },
      "source": [
        "# Imports"
      ]
    },
    {
      "cell_type": "code",
      "metadata": {
        "id": "aFHDQ7EeL2Kr",
        "colab_type": "code",
        "colab": {
          "base_uri": "https://localhost:8080/",
          "height": 89
        },
        "outputId": "8a754d00-3f1e-47da-ec47-83cb47b07cc6"
      },
      "source": [
        "import dgl\n",
        "import dgl.function as fn\n",
        "import torch as th\n",
        "import torch.nn as nn\n",
        "import torch.nn.functional as F\n",
        "from dgl import DGLGraph\n",
        "from dgl.data import citation_graph as citegrh\n",
        "import networkx as nx\n",
        "import tensorflow as tf\n",
        "import numpy as np\n",
        "import matplotlib.pyplot as plt\n",
        "import time\n",
        "import numpy as np"
      ],
      "execution_count": 2,
      "outputs": [
        {
          "output_type": "stream",
          "text": [
            "DGL backend not selected or invalid.  Assuming PyTorch for now.\n",
            "Using backend: pytorch\n"
          ],
          "name": "stderr"
        },
        {
          "output_type": "stream",
          "text": [
            "Setting the default backend to \"pytorch\". You can change it in the ~/.dgl/config.json file or export the DGLBACKEND environment variable.  Valid options are: pytorch, mxnet, tensorflow (all lowercase)\n"
          ],
          "name": "stdout"
        }
      ]
    },
    {
      "cell_type": "markdown",
      "metadata": {
        "id": "y9kykr3mPNrR",
        "colab_type": "text"
      },
      "source": [
        "# MODEL"
      ]
    },
    {
      "cell_type": "code",
      "metadata": {
        "id": "oV-y_JjGdpEO",
        "colab_type": "code",
        "colab": {}
      },
      "source": [
        "class GCNLayer(nn.Module):\n",
        "    def __init__(self, in_feats, out_feats):\n",
        "        # Inheriting the class layer\n",
        "        super(GCNLayer, self).__init__()\n",
        "        # Declaring the Linear Layer\n",
        "        self.linear = nn.Linear(in_feats, out_feats)\n",
        "\n",
        "    def message_func(self,edges):\n",
        "        #New Edges are the messages functions\n",
        "        new_edges = None\n",
        "\n",
        "        #Iterating the edges\n",
        "        for i_no,row in enumerate(edges.src['h']):\n",
        "            \n",
        "            #Source Vertex\n",
        "            src = edges.edges()[0][i_no]\n",
        "            #Degree of Source Vertex\n",
        "            degree_src = degrees[src]\n",
        "            #Dividing by root of degree\n",
        "            new_row = row/(degree_src ** (1/2))\n",
        "            \n",
        "            #making the tensor\n",
        "            if i_no == 0:\n",
        "                new_edges = new_row\n",
        "            elif i_no == 1:\n",
        "                new_edges = th.stack((new_edges,new_row),0)\n",
        "            else:\n",
        "                #Stacking the tensors one over the other\n",
        "                new_row = new_row.unsqueeze(1)\n",
        "                new_row = th.transpose(new_row, 0, 1)\n",
        "                new_edges = th.cat((new_edges,new_row),dim = 0)\n",
        "        \n",
        "        return {'m': new_edges}\n",
        "\n",
        "    def reduce_func(self,nodes):\n",
        "        #Get the sum of messages from each neighbor \n",
        "        h = th.sum(nodes.mailbox['m'], dim = 1)\n",
        "        new_h = None\n",
        "        \n",
        "        #Enumerate the nodes\n",
        "        for i_no,node in enumerate(nodes.nodes()):\n",
        "\n",
        "            #Normalize by square root of degree\n",
        "            new_row =  h[i_no]/(degrees[node]**(1/2))\n",
        "            \n",
        "            if i_no == 0:\n",
        "\n",
        "                #Initializing for the first node\n",
        "                new_row = new_row.unsqueeze(1)\n",
        "                new_row = th.transpose(new_row, 0, 1)\n",
        "                new_h = new_row\n",
        "            \n",
        "            else:\n",
        "\n",
        "                #Stacking up the tensors\n",
        "                new_row = new_row.unsqueeze(1)\n",
        "                new_row = th.transpose(new_row, 0, 1)\n",
        "                new_h = th.cat((new_h,new_row),dim = 0)\n",
        "        return {'h': new_h}\n",
        "\n",
        "    def forward(self, g, feature):\n",
        "        #Creating a local Scope\n",
        "        with g.local_scope():\n",
        "            #Assigning the feature data\n",
        "            g.ndata['h'] = feature\n",
        "            #Collecting and passing messages\n",
        "            g.update_all(self.message_func, self.reduce_func)\n",
        "            h = g.ndata['h']\n",
        "            #Passing it through FC layer\n",
        "            return self.linear(h)"
      ],
      "execution_count": 0,
      "outputs": []
    },
    {
      "cell_type": "code",
      "metadata": {
        "id": "fqQVXDBLf-8m",
        "colab_type": "code",
        "colab": {}
      },
      "source": [
        "class Net(nn.Module):\n",
        "    def __init__(self):\n",
        "        super(Net, self).__init__()\n",
        "        #Declaring FC GCNLayers \n",
        "        self.layer1 = GCNLayer(34, 32)\n",
        "        self.layer2 = GCNLayer(32, 2)\n",
        "\n",
        "    def forward(self, g, features):\n",
        "        # Passing through first FC Layer \n",
        "        x = self.layer1(g, features)\n",
        "        #Relu Activation Function\n",
        "        x = F.relu(x)\n",
        "        #Second Activation Function\n",
        "        x = self.layer2(g, x)\n",
        "        return x"
      ],
      "execution_count": 0,
      "outputs": []
    },
    {
      "cell_type": "markdown",
      "metadata": {
        "id": "283GMX_FPQUZ",
        "colab_type": "text"
      },
      "source": [
        "# LOAD GRAPH"
      ]
    },
    {
      "cell_type": "code",
      "metadata": {
        "id": "tDu1WZckk-g-",
        "colab_type": "code",
        "colab": {
          "base_uri": "https://localhost:8080/",
          "height": 69
        },
        "outputId": "da9dd7c0-4d8d-4044-921d-146bd89872db"
      },
      "source": [
        "#Load Karate Club Graph in Networkx\n",
        "nx_karate_graph = nx.karate_club_graph()\n",
        "\n",
        "#Load the networkx object into dgl graph object\n",
        "dgl_karate_graph = dgl.DGLGraph(nx_karate_graph)\n",
        "\n",
        "#print the karate gnx_karate_graphraph object  to get basic graph info\n",
        "print(dgl_karate_graph)"
      ],
      "execution_count": 5,
      "outputs": [
        {
          "output_type": "stream",
          "text": [
            "DGLGraph(num_nodes=34, num_edges=156,\n",
            "         ndata_schemes={}\n",
            "         edata_schemes={})\n"
          ],
          "name": "stdout"
        }
      ]
    },
    {
      "cell_type": "markdown",
      "metadata": {
        "id": "FSj2acKQPVV5",
        "colab_type": "text"
      },
      "source": [
        "#Initialize and Make Features"
      ]
    },
    {
      "cell_type": "code",
      "metadata": {
        "id": "dvBfIRJZH_pn",
        "colab_type": "code",
        "colab": {
          "base_uri": "https://localhost:8080/",
          "height": 572
        },
        "outputId": "0ff4b8eb-0d46-411e-8aa8-811cc55ac465"
      },
      "source": [
        "def make_one_hot_encoded_vector(n = 34):\n",
        "    \"\"\"\n",
        "    Makes a n X n 0's numpy array with diagonals filled with 1's\n",
        "    \"\"\"\n",
        "    arr = np.zeros((n,n))\n",
        "    for i in range(n):\n",
        "        arr[i,i] = 1\n",
        "    print(arr)\n",
        "    return arr.astype(float)\n",
        "\n",
        "def make_train_test_masks(n,train_set):\n",
        "    \"\"\"\n",
        "    Making Train and Test Masks\n",
        "    \"\"\"\n",
        "    test_mask = [True] * n\n",
        "    train_mask = [False] * n\n",
        "    for index in train_set:\n",
        "        train_mask[index] = True\n",
        "        test_mask[index] = False\n",
        "    return np.array(train_mask),np.array(test_mask)\n",
        "\n",
        "def make_labels_for_zachary_graph(graph):\n",
        "    \"\"\"\n",
        "    Assign the nodes labels for semi-supervised learning\n",
        "    \"\"\"\n",
        "    #Labels initialize with all zeros\n",
        "    labels = np.zeros(len(list(graph.nodes())))\n",
        "\n",
        "    #Community names in the graph\n",
        "    communities = {\"Mr. Hi\" : 0,\"Officer\" : 1}\n",
        "\n",
        "    #Assigning th labels\n",
        "    for i in graph.nodes():\n",
        "        community_name = graph.nodes[i]['club']\n",
        "        labels[i] = communities[community_name]\n",
        "    return labels\n",
        "\n",
        "#Making the one-hot encoded Features\n",
        "one_hot_encoded_vector = make_one_hot_encoded_vector(n = 34)\n",
        "\n",
        "#Converting it into Tensor\n",
        "features = th.from_numpy(one_hot_encoded_vector).float()\n",
        "print(\"Features Tensor = \",features)\n",
        "print(\"Shape of Features Tensor = \",features.shape)\n",
        "\n",
        "#Making the labels for the Zachary Graph\n",
        "#communities = {\"Mr. Hi\" : 0,\"Officer\" : 1}\n",
        "zachary_labels = make_labels_for_zachary_graph(nx_karate_graph)\n",
        "\n",
        "#Converting it into Tensor\n",
        "labels = th.from_numpy(zachary_labels).long()\n",
        "print(\"Labels Tensor = \",labels)\n",
        "print(\"Shape of Labels Tensor = \",labels.shape)\n",
        "\n",
        "#Make Train mask and Test Mask \n",
        "Train_Set_Labels = [0,33]\n",
        "train_mask_arr,test_mask_arr = make_train_test_masks(34,Train_Set_Labels)\n",
        "\n",
        "#Converting it into Tensor\n",
        "train_mask = th.from_numpy(train_mask_arr)\n",
        "print(\"train_mask Tensor = \",train_mask)\n",
        "print(\"Shape of train_mask Tensor = \",train_mask.shape)\n",
        "\n",
        "#Converting it into Tensor\n",
        "test_mask = th.from_numpy(test_mask_arr)\n",
        "print(\"test_mask Tensor = \",test_mask)\n",
        "print(\"Shape of test_mask Tensor = \",test_mask.shape)\n",
        "\n",
        "\n",
        "print(features.shape)\n",
        "print(labels.shape)\n",
        "print(train_mask.shape)\n",
        "print(test_mask.shape)"
      ],
      "execution_count": 6,
      "outputs": [
        {
          "output_type": "stream",
          "text": [
            "[[1. 0. 0. ... 0. 0. 0.]\n",
            " [0. 1. 0. ... 0. 0. 0.]\n",
            " [0. 0. 1. ... 0. 0. 0.]\n",
            " ...\n",
            " [0. 0. 0. ... 1. 0. 0.]\n",
            " [0. 0. 0. ... 0. 1. 0.]\n",
            " [0. 0. 0. ... 0. 0. 1.]]\n",
            "Features Tensor =  tensor([[1., 0., 0.,  ..., 0., 0., 0.],\n",
            "        [0., 1., 0.,  ..., 0., 0., 0.],\n",
            "        [0., 0., 1.,  ..., 0., 0., 0.],\n",
            "        ...,\n",
            "        [0., 0., 0.,  ..., 1., 0., 0.],\n",
            "        [0., 0., 0.,  ..., 0., 1., 0.],\n",
            "        [0., 0., 0.,  ..., 0., 0., 1.]])\n",
            "Shape of Features Tensor =  torch.Size([34, 34])\n",
            "Labels Tensor =  tensor([0, 0, 0, 0, 0, 0, 0, 0, 0, 1, 0, 0, 0, 0, 1, 1, 0, 0, 1, 0, 1, 0, 1, 1,\n",
            "        1, 1, 1, 1, 1, 1, 1, 1, 1, 1])\n",
            "Shape of Labels Tensor =  torch.Size([34])\n",
            "train_mask Tensor =  tensor([ True, False, False, False, False, False, False, False, False, False,\n",
            "        False, False, False, False, False, False, False, False, False, False,\n",
            "        False, False, False, False, False, False, False, False, False, False,\n",
            "        False, False, False,  True])\n",
            "Shape of train_mask Tensor =  torch.Size([34])\n",
            "test_mask Tensor =  tensor([False,  True,  True,  True,  True,  True,  True,  True,  True,  True,\n",
            "         True,  True,  True,  True,  True,  True,  True,  True,  True,  True,\n",
            "         True,  True,  True,  True,  True,  True,  True,  True,  True,  True,\n",
            "         True,  True,  True, False])\n",
            "Shape of test_mask Tensor =  torch.Size([34])\n",
            "torch.Size([34, 34])\n",
            "torch.Size([34])\n",
            "torch.Size([34])\n",
            "torch.Size([34])\n"
          ],
          "name": "stdout"
        }
      ]
    },
    {
      "cell_type": "code",
      "metadata": {
        "id": "Ne9frO_wHz4R",
        "colab_type": "code",
        "colab": {}
      },
      "source": [
        "def visualize_features(logits,labels,title):\n",
        "    \"\"\"\n",
        "    Visualize the features\n",
        "    \"\"\"\n",
        "    fig, ax = plt.subplots()\n",
        "    for i_no in range(logits.shape[0]):\n",
        "        \n",
        "        # Features\n",
        "        x = logits[i_no][0]\n",
        "        y = logits[i_no][1]\n",
        "        \n",
        "        # Scatter based on feature 0 and feature 1\n",
        "        if labels[i_no] == 0:\n",
        "            #If label is 0 , then color by RED\n",
        "            ax.scatter(x,y,c = 'red')\n",
        "            ax.annotate(i_no,(x,y))\n",
        "        else:\n",
        "            #If label is 0 , then color by BLUE\n",
        "            ax.scatter(x,y,c = 'blue')\n",
        "            ax.annotate(i_no,(x,y))\n",
        "    \n",
        "    ax.set_title('epoch ' + str(title))\n",
        "    ax.set_xlabel('x')\n",
        "    ax.set_ylabel('y')\n",
        "    plt.show()\n",
        "\n",
        "def evaluate(model, g, features, labels, mask,display = False):\n",
        "    \"\"\"\n",
        "    Get accuracy of th model\n",
        "    \"\"\"\n",
        "    #Evaluate Model\n",
        "    model.eval()\n",
        "\n",
        "    with th.no_grad():\n",
        "        #Get features\n",
        "        logits = model(g, features)\n",
        "        #Predicted label\n",
        "        logits = logits[mask]\n",
        "        #Actual Lable\n",
        "        labels = labels[mask]\n",
        "        _, indices = th.max(logits, dim=1)\n",
        "        if display != False:\n",
        "            visualize_features(logits,labels,display)\n",
        "        correct = th.sum(indices == labels)\n",
        "        return correct.item() * 1.0 / len(labels)\n",
        "        "
      ],
      "execution_count": 0,
      "outputs": []
    },
    {
      "cell_type": "markdown",
      "metadata": {
        "id": "LqAIM5wMPc8Y",
        "colab_type": "text"
      },
      "source": [
        "# Training Model"
      ]
    },
    {
      "cell_type": "code",
      "metadata": {
        "id": "BvbeXpMzH3Yf",
        "colab_type": "code",
        "outputId": "db700133-2e43-4ac6-b0b6-85d740b71e7e",
        "colab": {
          "base_uri": "https://localhost:8080/",
          "height": 1000
        }
      },
      "source": [
        "#Load Model\n",
        "net = Net()\n",
        "\n",
        "#ADAM Optimizer\n",
        "optimizer = th.optim.Adam(net.parameters(), lr = 2e-4)\n",
        "dur = []\n",
        "\n",
        "#Degrees in the karate graph\n",
        "degrees = dgl_karate_graph.in_degrees(dgl_karate_graph.nodes())\n",
        "\n",
        "#Number of Epochs\n",
        "nfepochs = 300\n",
        "\n",
        "for epoch in range(nfepochs):\n",
        "\n",
        "    if epoch >=3:\n",
        "        t0 = time.time()\n",
        "    \n",
        "    #Train model ON \n",
        "    net.train()\n",
        "    \n",
        "    # Get features\n",
        "    logits = net(dgl_karate_graph, features)\n",
        "\n",
        "    # Apply Softmax after the result\n",
        "    logp = F.log_softmax(logits, 1)\n",
        "\n",
        "    # Negative loss\n",
        "    loss = F.nll_loss(logp[train_mask], labels[train_mask])\n",
        "\n",
        "    # Backward\n",
        "    optimizer.zero_grad()\n",
        "    loss.backward()\n",
        "    optimizer.step()\n",
        "\n",
        "    if epoch >=3:\n",
        "        dur.append(time.time() - t0)\n",
        "\n",
        "    # Display the viaulaization of features  or NOT\n",
        "    disp = False\n",
        "\n",
        "    # For every fifth epoch draw the visualization\n",
        "    if epoch % 50 == 0:\n",
        "        disp = epoch\n",
        "\n",
        "    #Test Accuracy\n",
        "    acc = evaluate(net, dgl_karate_graph, features, labels, test_mask,disp)\n",
        "\n",
        "    print(\"Epoch {:05d} | Loss {:.4f} | Test Acc {:.4f} | Time(s) {:.4f}\".format(epoch, loss.item(), acc, np.mean(dur)))\n",
        "    "
      ],
      "execution_count": 9,
      "outputs": [
        {
          "output_type": "stream",
          "text": [
            "/usr/local/lib/python3.6/dist-packages/numpy/core/fromnumeric.py:3335: RuntimeWarning: Mean of empty slice.\n",
            "  out=out, **kwargs)\n",
            "/usr/local/lib/python3.6/dist-packages/numpy/core/_methods.py:161: RuntimeWarning: invalid value encountered in double_scalars\n",
            "  ret = ret.dtype.type(ret / rcount)\n"
          ],
          "name": "stderr"
        },
        {
          "output_type": "stream",
          "text": [
            "Epoch 00000 | Loss 0.6919 | Test Acc 0.5000 | Time(s) nan\n",
            "Epoch 00001 | Loss 0.6914 | Test Acc 0.5000 | Time(s) nan\n",
            "Epoch 00002 | Loss 0.6909 | Test Acc 0.5000 | Time(s) nan\n",
            "Epoch 00003 | Loss 0.6904 | Test Acc 0.5000 | Time(s) 0.0352\n",
            "Epoch 00004 | Loss 0.6899 | Test Acc 0.5000 | Time(s) 0.0380\n",
            "Epoch 00005 | Loss 0.6894 | Test Acc 0.5000 | Time(s) 0.0395\n",
            "Epoch 00006 | Loss 0.6889 | Test Acc 0.5000 | Time(s) 0.0384\n",
            "Epoch 00007 | Loss 0.6884 | Test Acc 0.5000 | Time(s) 0.0376\n",
            "Epoch 00008 | Loss 0.6879 | Test Acc 0.5000 | Time(s) 0.0377\n",
            "Epoch 00009 | Loss 0.6874 | Test Acc 0.5000 | Time(s) 0.0376\n",
            "Epoch 00010 | Loss 0.6869 | Test Acc 0.5000 | Time(s) 0.0371\n",
            "Epoch 00011 | Loss 0.6865 | Test Acc 0.5000 | Time(s) 0.0369\n",
            "Epoch 00012 | Loss 0.6860 | Test Acc 0.5000 | Time(s) 0.0369\n",
            "Epoch 00013 | Loss 0.6855 | Test Acc 0.5000 | Time(s) 0.0367\n",
            "Epoch 00014 | Loss 0.6850 | Test Acc 0.5000 | Time(s) 0.0369\n",
            "Epoch 00015 | Loss 0.6846 | Test Acc 0.5000 | Time(s) 0.0367\n",
            "Epoch 00016 | Loss 0.6841 | Test Acc 0.5000 | Time(s) 0.0368\n",
            "Epoch 00017 | Loss 0.6836 | Test Acc 0.5000 | Time(s) 0.0367\n",
            "Epoch 00018 | Loss 0.6832 | Test Acc 0.5000 | Time(s) 0.0367\n",
            "Epoch 00019 | Loss 0.6827 | Test Acc 0.5000 | Time(s) 0.0368\n",
            "Epoch 00020 | Loss 0.6822 | Test Acc 0.5000 | Time(s) 0.0377\n",
            "Epoch 00021 | Loss 0.6818 | Test Acc 0.5000 | Time(s) 0.0379\n",
            "Epoch 00022 | Loss 0.6813 | Test Acc 0.5000 | Time(s) 0.0378\n",
            "Epoch 00023 | Loss 0.6808 | Test Acc 0.5000 | Time(s) 0.0376\n",
            "Epoch 00024 | Loss 0.6804 | Test Acc 0.5000 | Time(s) 0.0379\n",
            "Epoch 00025 | Loss 0.6799 | Test Acc 0.5000 | Time(s) 0.0378\n",
            "Epoch 00026 | Loss 0.6795 | Test Acc 0.5000 | Time(s) 0.0377\n",
            "Epoch 00027 | Loss 0.6790 | Test Acc 0.5000 | Time(s) 0.0376\n",
            "Epoch 00028 | Loss 0.6785 | Test Acc 0.5000 | Time(s) 0.0376\n",
            "Epoch 00029 | Loss 0.6781 | Test Acc 0.5000 | Time(s) 0.0375\n",
            "Epoch 00030 | Loss 0.6776 | Test Acc 0.5000 | Time(s) 0.0375\n",
            "Epoch 00031 | Loss 0.6772 | Test Acc 0.5000 | Time(s) 0.0374\n",
            "Epoch 00032 | Loss 0.6767 | Test Acc 0.5000 | Time(s) 0.0377\n",
            "Epoch 00033 | Loss 0.6762 | Test Acc 0.5000 | Time(s) 0.0382\n",
            "Epoch 00034 | Loss 0.6758 | Test Acc 0.5000 | Time(s) 0.0385\n",
            "Epoch 00035 | Loss 0.6753 | Test Acc 0.5000 | Time(s) 0.0389\n",
            "Epoch 00036 | Loss 0.6749 | Test Acc 0.5000 | Time(s) 0.0394\n",
            "Epoch 00037 | Loss 0.6744 | Test Acc 0.5000 | Time(s) 0.0392\n",
            "Epoch 00038 | Loss 0.6740 | Test Acc 0.5000 | Time(s) 0.0391\n",
            "Epoch 00039 | Loss 0.6735 | Test Acc 0.5000 | Time(s) 0.0390\n",
            "Epoch 00040 | Loss 0.6731 | Test Acc 0.5000 | Time(s) 0.0389\n",
            "Epoch 00041 | Loss 0.6726 | Test Acc 0.5000 | Time(s) 0.0388\n",
            "Epoch 00042 | Loss 0.6721 | Test Acc 0.5000 | Time(s) 0.0387\n",
            "Epoch 00043 | Loss 0.6717 | Test Acc 0.5000 | Time(s) 0.0386\n",
            "Epoch 00044 | Loss 0.6712 | Test Acc 0.5000 | Time(s) 0.0386\n",
            "Epoch 00045 | Loss 0.6708 | Test Acc 0.5000 | Time(s) 0.0387\n",
            "Epoch 00046 | Loss 0.6703 | Test Acc 0.5000 | Time(s) 0.0387\n",
            "Epoch 00047 | Loss 0.6698 | Test Acc 0.5000 | Time(s) 0.0386\n",
            "Epoch 00048 | Loss 0.6694 | Test Acc 0.5000 | Time(s) 0.0386\n",
            "Epoch 00049 | Loss 0.6689 | Test Acc 0.5000 | Time(s) 0.0385\n"
          ],
          "name": "stdout"
        },
        {
          "output_type": "display_data",
          "data": {
            "image/png": "[encoded data removed]",
            "text/plain": [
              "<Figure size 432x288 with 1 Axes>"
            ]
          },
          "metadata": {
            "tags": [],
            "needs_background": "light"
          }
        },
        {
          "output_type": "stream",
          "text": [
            "Epoch 00050 | Loss 0.6685 | Test Acc 0.5000 | Time(s) 0.0388\n",
            "Epoch 00051 | Loss 0.6680 | Test Acc 0.5000 | Time(s) 0.0393\n",
            "Epoch 00052 | Loss 0.6676 | Test Acc 0.5000 | Time(s) 0.0395\n",
            "Epoch 00053 | Loss 0.6671 | Test Acc 0.5000 | Time(s) 0.0398\n",
            "Epoch 00054 | Loss 0.6666 | Test Acc 0.5000 | Time(s) 0.0397\n",
            "Epoch 00055 | Loss 0.6662 | Test Acc 0.5000 | Time(s) 0.0398\n",
            "Epoch 00056 | Loss 0.6657 | Test Acc 0.5000 | Time(s) 0.0400\n",
            "Epoch 00057 | Loss 0.6653 | Test Acc 0.5000 | Time(s) 0.0399\n",
            "Epoch 00058 | Loss 0.6648 | Test Acc 0.5000 | Time(s) 0.0398\n",
            "Epoch 00059 | Loss 0.6644 | Test Acc 0.5000 | Time(s) 0.0397\n",
            "Epoch 00060 | Loss 0.6639 | Test Acc 0.5000 | Time(s) 0.0398\n",
            "Epoch 00061 | Loss 0.6634 | Test Acc 0.5000 | Time(s) 0.0399\n",
            "Epoch 00062 | Loss 0.6630 | Test Acc 0.5000 | Time(s) 0.0398\n",
            "Epoch 00063 | Loss 0.6625 | Test Acc 0.5000 | Time(s) 0.0397\n",
            "Epoch 00064 | Loss 0.6620 | Test Acc 0.5000 | Time(s) 0.0397\n",
            "Epoch 00065 | Loss 0.6615 | Test Acc 0.5000 | Time(s) 0.0396\n",
            "Epoch 00066 | Loss 0.6611 | Test Acc 0.5000 | Time(s) 0.0396\n",
            "Epoch 00067 | Loss 0.6606 | Test Acc 0.5000 | Time(s) 0.0398\n",
            "Epoch 00068 | Loss 0.6601 | Test Acc 0.5000 | Time(s) 0.0399\n",
            "Epoch 00069 | Loss 0.6596 | Test Acc 0.5000 | Time(s) 0.0399\n",
            "Epoch 00070 | Loss 0.6592 | Test Acc 0.5000 | Time(s) 0.0398\n",
            "Epoch 00071 | Loss 0.6587 | Test Acc 0.5000 | Time(s) 0.0397\n",
            "Epoch 00072 | Loss 0.6582 | Test Acc 0.5000 | Time(s) 0.0397\n",
            "Epoch 00073 | Loss 0.6577 | Test Acc 0.5000 | Time(s) 0.0396\n",
            "Epoch 00074 | Loss 0.6572 | Test Acc 0.5000 | Time(s) 0.0395\n",
            "Epoch 00075 | Loss 0.6567 | Test Acc 0.5000 | Time(s) 0.0395\n",
            "Epoch 00076 | Loss 0.6562 | Test Acc 0.5000 | Time(s) 0.0395\n",
            "Epoch 00077 | Loss 0.6557 | Test Acc 0.5000 | Time(s) 0.0395\n",
            "Epoch 00078 | Loss 0.6552 | Test Acc 0.5000 | Time(s) 0.0395\n",
            "Epoch 00079 | Loss 0.6547 | Test Acc 0.5000 | Time(s) 0.0394\n",
            "Epoch 00080 | Loss 0.6542 | Test Acc 0.5000 | Time(s) 0.0394\n",
            "Epoch 00081 | Loss 0.6537 | Test Acc 0.5000 | Time(s) 0.0393\n",
            "Epoch 00082 | Loss 0.6532 | Test Acc 0.5000 | Time(s) 0.0393\n",
            "Epoch 00083 | Loss 0.6527 | Test Acc 0.5000 | Time(s) 0.0393\n",
            "Epoch 00084 | Loss 0.6521 | Test Acc 0.5000 | Time(s) 0.0395\n",
            "Epoch 00085 | Loss 0.6516 | Test Acc 0.5000 | Time(s) 0.0397\n",
            "Epoch 00086 | Loss 0.6511 | Test Acc 0.5000 | Time(s) 0.0398\n",
            "Epoch 00087 | Loss 0.6506 | Test Acc 0.5000 | Time(s) 0.0397\n",
            "Epoch 00088 | Loss 0.6501 | Test Acc 0.5000 | Time(s) 0.0397\n",
            "Epoch 00089 | Loss 0.6495 | Test Acc 0.5000 | Time(s) 0.0397\n",
            "Epoch 00090 | Loss 0.6490 | Test Acc 0.5000 | Time(s) 0.0396\n",
            "Epoch 00091 | Loss 0.6485 | Test Acc 0.5000 | Time(s) 0.0397\n",
            "Epoch 00092 | Loss 0.6480 | Test Acc 0.5000 | Time(s) 0.0396\n",
            "Epoch 00093 | Loss 0.6474 | Test Acc 0.5000 | Time(s) 0.0396\n",
            "Epoch 00094 | Loss 0.6469 | Test Acc 0.5000 | Time(s) 0.0396\n",
            "Epoch 00095 | Loss 0.6463 | Test Acc 0.5000 | Time(s) 0.0395\n",
            "Epoch 00096 | Loss 0.6458 | Test Acc 0.5000 | Time(s) 0.0395\n",
            "Epoch 00097 | Loss 0.6452 | Test Acc 0.5000 | Time(s) 0.0395\n",
            "Epoch 00098 | Loss 0.6447 | Test Acc 0.5000 | Time(s) 0.0395\n",
            "Epoch 00099 | Loss 0.6441 | Test Acc 0.5000 | Time(s) 0.0395\n"
          ],
          "name": "stdout"
        },
        {
          "output_type": "display_data",
          "data": {
            "image/png": "[encoded data removed]",
            "text/plain": [
              "<Figure size 432x288 with 1 Axes>"
            ]
          },
          "metadata": {
            "tags": [],
            "needs_background": "light"
          }
        },
        {
          "output_type": "stream",
          "text": [
            "Epoch 00100 | Loss 0.6436 | Test Acc 0.5000 | Time(s) 0.0395\n",
            "Epoch 00101 | Loss 0.6430 | Test Acc 0.5000 | Time(s) 0.0397\n",
            "Epoch 00102 | Loss 0.6424 | Test Acc 0.5000 | Time(s) 0.0398\n",
            "Epoch 00103 | Loss 0.6419 | Test Acc 0.5000 | Time(s) 0.0399\n",
            "Epoch 00104 | Loss 0.6413 | Test Acc 0.5000 | Time(s) 0.0401\n",
            "Epoch 00105 | Loss 0.6407 | Test Acc 0.5000 | Time(s) 0.0400\n",
            "Epoch 00106 | Loss 0.6401 | Test Acc 0.5000 | Time(s) 0.0401\n",
            "Epoch 00107 | Loss 0.6395 | Test Acc 0.5000 | Time(s) 0.0400\n",
            "Epoch 00108 | Loss 0.6389 | Test Acc 0.5312 | Time(s) 0.0400\n",
            "Epoch 00109 | Loss 0.6383 | Test Acc 0.5312 | Time(s) 0.0400\n",
            "Epoch 00110 | Loss 0.6377 | Test Acc 0.5312 | Time(s) 0.0400\n",
            "Epoch 00111 | Loss 0.6371 | Test Acc 0.5312 | Time(s) 0.0400\n",
            "Epoch 00112 | Loss 0.6365 | Test Acc 0.5312 | Time(s) 0.0399\n",
            "Epoch 00113 | Loss 0.6359 | Test Acc 0.5312 | Time(s) 0.0399\n",
            "Epoch 00114 | Loss 0.6353 | Test Acc 0.5312 | Time(s) 0.0399\n",
            "Epoch 00115 | Loss 0.6346 | Test Acc 0.5312 | Time(s) 0.0399\n",
            "Epoch 00116 | Loss 0.6340 | Test Acc 0.5312 | Time(s) 0.0398\n",
            "Epoch 00117 | Loss 0.6334 | Test Acc 0.5312 | Time(s) 0.0398\n",
            "Epoch 00118 | Loss 0.6327 | Test Acc 0.5312 | Time(s) 0.0398\n",
            "Epoch 00119 | Loss 0.6321 | Test Acc 0.5312 | Time(s) 0.0398\n",
            "Epoch 00120 | Loss 0.6314 | Test Acc 0.5312 | Time(s) 0.0397\n",
            "Epoch 00121 | Loss 0.6308 | Test Acc 0.5312 | Time(s) 0.0397\n",
            "Epoch 00122 | Loss 0.6301 | Test Acc 0.5312 | Time(s) 0.0397\n",
            "Epoch 00123 | Loss 0.6294 | Test Acc 0.5312 | Time(s) 0.0398\n",
            "Epoch 00124 | Loss 0.6287 | Test Acc 0.5312 | Time(s) 0.0399\n",
            "Epoch 00125 | Loss 0.6280 | Test Acc 0.5312 | Time(s) 0.0400\n",
            "Epoch 00126 | Loss 0.6273 | Test Acc 0.5312 | Time(s) 0.0401\n",
            "Epoch 00127 | Loss 0.6266 | Test Acc 0.5312 | Time(s) 0.0402\n",
            "Epoch 00128 | Loss 0.6259 | Test Acc 0.5312 | Time(s) 0.0403\n",
            "Epoch 00129 | Loss 0.6252 | Test Acc 0.5625 | Time(s) 0.0404\n",
            "Epoch 00130 | Loss 0.6245 | Test Acc 0.5625 | Time(s) 0.0405\n",
            "Epoch 00131 | Loss 0.6237 | Test Acc 0.5625 | Time(s) 0.0406\n",
            "Epoch 00132 | Loss 0.6230 | Test Acc 0.5625 | Time(s) 0.0407\n",
            "Epoch 00133 | Loss 0.6222 | Test Acc 0.5625 | Time(s) 0.0407\n",
            "Epoch 00134 | Loss 0.6215 | Test Acc 0.5938 | Time(s) 0.0406\n",
            "Epoch 00135 | Loss 0.6207 | Test Acc 0.5938 | Time(s) 0.0406\n",
            "Epoch 00136 | Loss 0.6200 | Test Acc 0.6250 | Time(s) 0.0406\n",
            "Epoch 00137 | Loss 0.6192 | Test Acc 0.6250 | Time(s) 0.0405\n",
            "Epoch 00138 | Loss 0.6184 | Test Acc 0.6250 | Time(s) 0.0405\n",
            "Epoch 00139 | Loss 0.6177 | Test Acc 0.6250 | Time(s) 0.0405\n",
            "Epoch 00140 | Loss 0.6169 | Test Acc 0.6250 | Time(s) 0.0405\n",
            "Epoch 00141 | Loss 0.6161 | Test Acc 0.6250 | Time(s) 0.0405\n",
            "Epoch 00142 | Loss 0.6153 | Test Acc 0.6250 | Time(s) 0.0404\n",
            "Epoch 00143 | Loss 0.6146 | Test Acc 0.6250 | Time(s) 0.0404\n",
            "Epoch 00144 | Loss 0.6138 | Test Acc 0.6250 | Time(s) 0.0404\n",
            "Epoch 00145 | Loss 0.6130 | Test Acc 0.6250 | Time(s) 0.0403\n",
            "Epoch 00146 | Loss 0.6122 | Test Acc 0.6250 | Time(s) 0.0403\n",
            "Epoch 00147 | Loss 0.6114 | Test Acc 0.6250 | Time(s) 0.0403\n",
            "Epoch 00148 | Loss 0.6106 | Test Acc 0.6250 | Time(s) 0.0403\n",
            "Epoch 00149 | Loss 0.6098 | Test Acc 0.6250 | Time(s) 0.0402\n"
          ],
          "name": "stdout"
        },
        {
          "output_type": "display_data",
          "data": {
            "image/png": "[encoded data removed]",
            "text/plain": [
              "<Figure size 432x288 with 1 Axes>"
            ]
          },
          "metadata": {
            "tags": [],
            "needs_background": "light"
          }
        },
        {
          "output_type": "stream",
          "text": [
            "Epoch 00150 | Loss 0.6090 | Test Acc 0.6250 | Time(s) 0.0402\n",
            "Epoch 00151 | Loss 0.6082 | Test Acc 0.6250 | Time(s) 0.0402\n",
            "Epoch 00152 | Loss 0.6073 | Test Acc 0.6250 | Time(s) 0.0402\n",
            "Epoch 00153 | Loss 0.6065 | Test Acc 0.6562 | Time(s) 0.0401\n",
            "Epoch 00154 | Loss 0.6057 | Test Acc 0.6562 | Time(s) 0.0401\n",
            "Epoch 00155 | Loss 0.6049 | Test Acc 0.6562 | Time(s) 0.0401\n",
            "Epoch 00156 | Loss 0.6040 | Test Acc 0.6562 | Time(s) 0.0400\n",
            "Epoch 00157 | Loss 0.6032 | Test Acc 0.6562 | Time(s) 0.0400\n",
            "Epoch 00158 | Loss 0.6024 | Test Acc 0.6562 | Time(s) 0.0400\n",
            "Epoch 00159 | Loss 0.6015 | Test Acc 0.6875 | Time(s) 0.0401\n",
            "Epoch 00160 | Loss 0.6007 | Test Acc 0.6875 | Time(s) 0.0400\n",
            "Epoch 00161 | Loss 0.5998 | Test Acc 0.6875 | Time(s) 0.0400\n",
            "Epoch 00162 | Loss 0.5990 | Test Acc 0.6875 | Time(s) 0.0400\n",
            "Epoch 00163 | Loss 0.5981 | Test Acc 0.6875 | Time(s) 0.0400\n",
            "Epoch 00164 | Loss 0.5972 | Test Acc 0.6875 | Time(s) 0.0399\n",
            "Epoch 00165 | Loss 0.5964 | Test Acc 0.6875 | Time(s) 0.0399\n",
            "Epoch 00166 | Loss 0.5955 | Test Acc 0.6875 | Time(s) 0.0399\n",
            "Epoch 00167 | Loss 0.5946 | Test Acc 0.6875 | Time(s) 0.0399\n",
            "Epoch 00168 | Loss 0.5937 | Test Acc 0.6875 | Time(s) 0.0399\n",
            "Epoch 00169 | Loss 0.5929 | Test Acc 0.6875 | Time(s) 0.0399\n",
            "Epoch 00170 | Loss 0.5920 | Test Acc 0.6875 | Time(s) 0.0399\n",
            "Epoch 00171 | Loss 0.5911 | Test Acc 0.7188 | Time(s) 0.0398\n",
            "Epoch 00172 | Loss 0.5902 | Test Acc 0.7188 | Time(s) 0.0399\n",
            "Epoch 00173 | Loss 0.5893 | Test Acc 0.7812 | Time(s) 0.0399\n",
            "Epoch 00174 | Loss 0.5884 | Test Acc 0.7812 | Time(s) 0.0399\n",
            "Epoch 00175 | Loss 0.5875 | Test Acc 0.7812 | Time(s) 0.0399\n",
            "Epoch 00176 | Loss 0.5866 | Test Acc 0.7812 | Time(s) 0.0400\n",
            "Epoch 00177 | Loss 0.5857 | Test Acc 0.7812 | Time(s) 0.0400\n",
            "Epoch 00178 | Loss 0.5848 | Test Acc 0.7812 | Time(s) 0.0400\n",
            "Epoch 00179 | Loss 0.5839 | Test Acc 0.7812 | Time(s) 0.0399\n",
            "Epoch 00180 | Loss 0.5829 | Test Acc 0.7812 | Time(s) 0.0399\n",
            "Epoch 00181 | Loss 0.5820 | Test Acc 0.7812 | Time(s) 0.0399\n",
            "Epoch 00182 | Loss 0.5811 | Test Acc 0.7812 | Time(s) 0.0399\n",
            "Epoch 00183 | Loss 0.5802 | Test Acc 0.7812 | Time(s) 0.0399\n",
            "Epoch 00184 | Loss 0.5792 | Test Acc 0.7812 | Time(s) 0.0399\n",
            "Epoch 00185 | Loss 0.5783 | Test Acc 0.7812 | Time(s) 0.0398\n",
            "Epoch 00186 | Loss 0.5774 | Test Acc 0.7812 | Time(s) 0.0398\n",
            "Epoch 00187 | Loss 0.5764 | Test Acc 0.7812 | Time(s) 0.0398\n",
            "Epoch 00188 | Loss 0.5755 | Test Acc 0.8125 | Time(s) 0.0398\n",
            "Epoch 00189 | Loss 0.5745 | Test Acc 0.8125 | Time(s) 0.0398\n",
            "Epoch 00190 | Loss 0.5735 | Test Acc 0.8125 | Time(s) 0.0398\n",
            "Epoch 00191 | Loss 0.5726 | Test Acc 0.8125 | Time(s) 0.0398\n",
            "Epoch 00192 | Loss 0.5716 | Test Acc 0.8125 | Time(s) 0.0398\n",
            "Epoch 00193 | Loss 0.5706 | Test Acc 0.8125 | Time(s) 0.0398\n",
            "Epoch 00194 | Loss 0.5697 | Test Acc 0.8125 | Time(s) 0.0397\n",
            "Epoch 00195 | Loss 0.5687 | Test Acc 0.8125 | Time(s) 0.0397\n",
            "Epoch 00196 | Loss 0.5677 | Test Acc 0.8125 | Time(s) 0.0397\n",
            "Epoch 00197 | Loss 0.5667 | Test Acc 0.8438 | Time(s) 0.0397\n",
            "Epoch 00198 | Loss 0.5657 | Test Acc 0.8438 | Time(s) 0.0397\n",
            "Epoch 00199 | Loss 0.5647 | Test Acc 0.8438 | Time(s) 0.0396\n"
          ],
          "name": "stdout"
        },
        {
          "output_type": "display_data",
          "data": {
            "image/png": "[encoded data removed]",
            "text/plain": [
              "<Figure size 432x288 with 1 Axes>"
            ]
          },
          "metadata": {
            "tags": [],
            "needs_background": "light"
          }
        },
        {
          "output_type": "stream",
          "text": [
            "Epoch 00200 | Loss 0.5637 | Test Acc 0.8438 | Time(s) 0.0397\n",
            "Epoch 00201 | Loss 0.5627 | Test Acc 0.8438 | Time(s) 0.0397\n",
            "Epoch 00202 | Loss 0.5617 | Test Acc 0.8438 | Time(s) 0.0396\n",
            "Epoch 00203 | Loss 0.5607 | Test Acc 0.8438 | Time(s) 0.0396\n",
            "Epoch 00204 | Loss 0.5597 | Test Acc 0.8438 | Time(s) 0.0396\n",
            "Epoch 00205 | Loss 0.5586 | Test Acc 0.8438 | Time(s) 0.0396\n",
            "Epoch 00206 | Loss 0.5576 | Test Acc 0.8438 | Time(s) 0.0396\n",
            "Epoch 00207 | Loss 0.5566 | Test Acc 0.8438 | Time(s) 0.0396\n",
            "Epoch 00208 | Loss 0.5555 | Test Acc 0.8438 | Time(s) 0.0396\n",
            "Epoch 00209 | Loss 0.5545 | Test Acc 0.8750 | Time(s) 0.0395\n",
            "Epoch 00210 | Loss 0.5534 | Test Acc 0.8750 | Time(s) 0.0395\n",
            "Epoch 00211 | Loss 0.5524 | Test Acc 0.8750 | Time(s) 0.0395\n",
            "Epoch 00212 | Loss 0.5513 | Test Acc 0.8750 | Time(s) 0.0395\n",
            "Epoch 00213 | Loss 0.5502 | Test Acc 0.8750 | Time(s) 0.0395\n",
            "Epoch 00214 | Loss 0.5492 | Test Acc 0.9062 | Time(s) 0.0395\n",
            "Epoch 00215 | Loss 0.5481 | Test Acc 0.9062 | Time(s) 0.0395\n",
            "Epoch 00216 | Loss 0.5470 | Test Acc 0.9062 | Time(s) 0.0395\n",
            "Epoch 00217 | Loss 0.5459 | Test Acc 0.9062 | Time(s) 0.0395\n",
            "Epoch 00218 | Loss 0.5448 | Test Acc 0.9062 | Time(s) 0.0394\n",
            "Epoch 00219 | Loss 0.5437 | Test Acc 0.9062 | Time(s) 0.0394\n",
            "Epoch 00220 | Loss 0.5426 | Test Acc 0.9062 | Time(s) 0.0394\n",
            "Epoch 00221 | Loss 0.5415 | Test Acc 0.9062 | Time(s) 0.0394\n",
            "Epoch 00222 | Loss 0.5404 | Test Acc 0.9062 | Time(s) 0.0394\n",
            "Epoch 00223 | Loss 0.5392 | Test Acc 0.9062 | Time(s) 0.0394\n",
            "Epoch 00224 | Loss 0.5381 | Test Acc 0.9062 | Time(s) 0.0394\n",
            "Epoch 00225 | Loss 0.5370 | Test Acc 0.9062 | Time(s) 0.0394\n",
            "Epoch 00226 | Loss 0.5358 | Test Acc 0.9062 | Time(s) 0.0393\n",
            "Epoch 00227 | Loss 0.5347 | Test Acc 0.9062 | Time(s) 0.0393\n",
            "Epoch 00228 | Loss 0.5335 | Test Acc 0.9062 | Time(s) 0.0394\n",
            "Epoch 00229 | Loss 0.5323 | Test Acc 0.9062 | Time(s) 0.0394\n",
            "Epoch 00230 | Loss 0.5311 | Test Acc 0.9062 | Time(s) 0.0395\n",
            "Epoch 00231 | Loss 0.5300 | Test Acc 0.9375 | Time(s) 0.0394\n",
            "Epoch 00232 | Loss 0.5288 | Test Acc 0.9375 | Time(s) 0.0394\n",
            "Epoch 00233 | Loss 0.5276 | Test Acc 0.9375 | Time(s) 0.0394\n",
            "Epoch 00234 | Loss 0.5264 | Test Acc 0.9375 | Time(s) 0.0394\n",
            "Epoch 00235 | Loss 0.5252 | Test Acc 0.9375 | Time(s) 0.0394\n",
            "Epoch 00236 | Loss 0.5240 | Test Acc 0.9375 | Time(s) 0.0394\n",
            "Epoch 00237 | Loss 0.5228 | Test Acc 0.9375 | Time(s) 0.0394\n",
            "Epoch 00238 | Loss 0.5216 | Test Acc 0.9375 | Time(s) 0.0394\n",
            "Epoch 00239 | Loss 0.5203 | Test Acc 0.9375 | Time(s) 0.0394\n",
            "Epoch 00240 | Loss 0.5191 | Test Acc 0.9375 | Time(s) 0.0394\n",
            "Epoch 00241 | Loss 0.5178 | Test Acc 0.9375 | Time(s) 0.0394\n",
            "Epoch 00242 | Loss 0.5166 | Test Acc 0.9375 | Time(s) 0.0394\n",
            "Epoch 00243 | Loss 0.5153 | Test Acc 0.9375 | Time(s) 0.0393\n",
            "Epoch 00244 | Loss 0.5141 | Test Acc 0.9375 | Time(s) 0.0393\n",
            "Epoch 00245 | Loss 0.5128 | Test Acc 0.9375 | Time(s) 0.0393\n",
            "Epoch 00246 | Loss 0.5116 | Test Acc 0.9375 | Time(s) 0.0393\n",
            "Epoch 00247 | Loss 0.5103 | Test Acc 0.9375 | Time(s) 0.0393\n",
            "Epoch 00248 | Loss 0.5090 | Test Acc 0.9375 | Time(s) 0.0393\n",
            "Epoch 00249 | Loss 0.5077 | Test Acc 0.9375 | Time(s) 0.0393\n"
          ],
          "name": "stdout"
        },
        {
          "output_type": "display_data",
          "data": {
            "image/png": "[encoded data removed]",
            "text/plain": [
              "<Figure size 432x288 with 1 Axes>"
            ]
          },
          "metadata": {
            "tags": [],
            "needs_background": "light"
          }
        },
        {
          "output_type": "stream",
          "text": [
            "Epoch 00250 | Loss 0.5065 | Test Acc 0.9375 | Time(s) 0.0393\n",
            "Epoch 00251 | Loss 0.5052 | Test Acc 0.9375 | Time(s) 0.0393\n",
            "Epoch 00252 | Loss 0.5039 | Test Acc 0.9375 | Time(s) 0.0393\n",
            "Epoch 00253 | Loss 0.5026 | Test Acc 0.9375 | Time(s) 0.0393\n",
            "Epoch 00254 | Loss 0.5013 | Test Acc 0.9375 | Time(s) 0.0393\n",
            "Epoch 00255 | Loss 0.5000 | Test Acc 0.9375 | Time(s) 0.0393\n",
            "Epoch 00256 | Loss 0.4987 | Test Acc 0.9375 | Time(s) 0.0392\n",
            "Epoch 00257 | Loss 0.4974 | Test Acc 0.9375 | Time(s) 0.0392\n",
            "Epoch 00258 | Loss 0.4961 | Test Acc 0.9375 | Time(s) 0.0392\n",
            "Epoch 00259 | Loss 0.4948 | Test Acc 0.9375 | Time(s) 0.0392\n",
            "Epoch 00260 | Loss 0.4935 | Test Acc 0.9375 | Time(s) 0.0392\n",
            "Epoch 00261 | Loss 0.4922 | Test Acc 0.9375 | Time(s) 0.0392\n",
            "Epoch 00262 | Loss 0.4909 | Test Acc 0.9375 | Time(s) 0.0392\n",
            "Epoch 00263 | Loss 0.4895 | Test Acc 0.9375 | Time(s) 0.0392\n",
            "Epoch 00264 | Loss 0.4882 | Test Acc 0.9375 | Time(s) 0.0392\n",
            "Epoch 00265 | Loss 0.4869 | Test Acc 0.9375 | Time(s) 0.0392\n",
            "Epoch 00266 | Loss 0.4856 | Test Acc 0.9375 | Time(s) 0.0392\n",
            "Epoch 00267 | Loss 0.4842 | Test Acc 0.9375 | Time(s) 0.0391\n",
            "Epoch 00268 | Loss 0.4829 | Test Acc 0.9375 | Time(s) 0.0391\n",
            "Epoch 00269 | Loss 0.4816 | Test Acc 0.9375 | Time(s) 0.0391\n",
            "Epoch 00270 | Loss 0.4803 | Test Acc 0.9375 | Time(s) 0.0391\n",
            "Epoch 00271 | Loss 0.4789 | Test Acc 0.9375 | Time(s) 0.0391\n",
            "Epoch 00272 | Loss 0.4776 | Test Acc 0.9375 | Time(s) 0.0391\n",
            "Epoch 00273 | Loss 0.4762 | Test Acc 0.9375 | Time(s) 0.0391\n",
            "Epoch 00274 | Loss 0.4749 | Test Acc 0.9375 | Time(s) 0.0391\n",
            "Epoch 00275 | Loss 0.4736 | Test Acc 0.9375 | Time(s) 0.0391\n",
            "Epoch 00276 | Loss 0.4722 | Test Acc 0.9375 | Time(s) 0.0391\n",
            "Epoch 00277 | Loss 0.4708 | Test Acc 0.9375 | Time(s) 0.0390\n",
            "Epoch 00278 | Loss 0.4695 | Test Acc 0.9375 | Time(s) 0.0390\n",
            "Epoch 00279 | Loss 0.4681 | Test Acc 0.9375 | Time(s) 0.0390\n",
            "Epoch 00280 | Loss 0.4667 | Test Acc 0.9375 | Time(s) 0.0390\n",
            "Epoch 00281 | Loss 0.4653 | Test Acc 0.9375 | Time(s) 0.0390\n",
            "Epoch 00282 | Loss 0.4640 | Test Acc 0.9375 | Time(s) 0.0390\n",
            "Epoch 00283 | Loss 0.4626 | Test Acc 0.9375 | Time(s) 0.0390\n",
            "Epoch 00284 | Loss 0.4612 | Test Acc 0.9375 | Time(s) 0.0390\n",
            "Epoch 00285 | Loss 0.4598 | Test Acc 0.9375 | Time(s) 0.0390\n",
            "Epoch 00286 | Loss 0.4584 | Test Acc 0.9375 | Time(s) 0.0390\n",
            "Epoch 00287 | Loss 0.4569 | Test Acc 0.9375 | Time(s) 0.0390\n",
            "Epoch 00288 | Loss 0.4555 | Test Acc 0.9375 | Time(s) 0.0391\n",
            "Epoch 00289 | Loss 0.4541 | Test Acc 0.9375 | Time(s) 0.0391\n",
            "Epoch 00290 | Loss 0.4526 | Test Acc 0.9375 | Time(s) 0.0391\n",
            "Epoch 00291 | Loss 0.4512 | Test Acc 0.9375 | Time(s) 0.0392\n",
            "Epoch 00292 | Loss 0.4497 | Test Acc 0.9375 | Time(s) 0.0393\n",
            "Epoch 00293 | Loss 0.4483 | Test Acc 0.9375 | Time(s) 0.0393\n",
            "Epoch 00294 | Loss 0.4469 | Test Acc 0.9375 | Time(s) 0.0393\n",
            "Epoch 00295 | Loss 0.4454 | Test Acc 0.9375 | Time(s) 0.0394\n",
            "Epoch 00296 | Loss 0.4439 | Test Acc 0.9375 | Time(s) 0.0394\n",
            "Epoch 00297 | Loss 0.4425 | Test Acc 0.9375 | Time(s) 0.0395\n",
            "Epoch 00298 | Loss 0.4410 | Test Acc 0.9375 | Time(s) 0.0395\n",
            "Epoch 00299 | Loss 0.4396 | Test Acc 0.9062 | Time(s) 0.0395\n"
          ],
          "name": "stdout"
        }
      ]
    }
  ]
}